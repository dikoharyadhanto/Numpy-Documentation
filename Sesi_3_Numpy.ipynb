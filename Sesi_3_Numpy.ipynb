{
  "nbformat": 4,
  "nbformat_minor": 0,
  "metadata": {
    "colab": {
      "name": "Sesi 3 - Numpy.ipynb",
      "provenance": [],
      "collapsed_sections": [],
      "toc_visible": true,
      "authorship_tag": "ABX9TyPfy/Sz3F88wXsFo7FpDGud",
      "include_colab_link": true
    },
    "kernelspec": {
      "name": "python3",
      "display_name": "Python 3"
    },
    "language_info": {
      "name": "python"
    }
  },
  "cells": [
    {
      "cell_type": "markdown",
      "metadata": {
        "id": "view-in-github",
        "colab_type": "text"
      },
      "source": [
        "<a href=\"https://colab.research.google.com/github/dikoharyadhanto/Numpy-Documentation/blob/main/Sesi_3_Numpy.ipynb\" target=\"_parent\"><img src=\"https://colab.research.google.com/assets/colab-badge.svg\" alt=\"Open In Colab\"/></a>"
      ]
    },
    {
      "cell_type": "code",
      "metadata": {
        "id": "3JPG6MxqEkA5"
      },
      "source": [
        "import numpy as np"
      ],
      "execution_count": 162,
      "outputs": []
    },
    {
      "cell_type": "markdown",
      "metadata": {
        "id": "TVP8_YqTE5Tu"
      },
      "source": [
        "# **Kenapa pakai Numpy?**"
      ]
    },
    {
      "cell_type": "markdown",
      "metadata": {
        "id": "aDhl-pHFE8W5"
      },
      "source": [
        "Numpy lebih cepat dan compact daripada list python. Menggunakan sedikit memori untuk menyimpan data."
      ]
    },
    {
      "cell_type": "markdown",
      "metadata": {
        "id": "Xn78TBscFLF6"
      },
      "source": [
        "# **Array Numpy**"
      ]
    },
    {
      "cell_type": "code",
      "metadata": {
        "colab": {
          "base_uri": "https://localhost:8080/"
        },
        "id": "wbiGq_JSFPpn",
        "outputId": "5804ca8f-1851-4c8f-acc8-733e540d9c38"
      },
      "source": [
        "a = np.array([[1,2,3,4], [5,6,7,8], [9,10,11,12]])\n",
        "a"
      ],
      "execution_count": 163,
      "outputs": [
        {
          "output_type": "execute_result",
          "data": {
            "text/plain": [
              "array([[ 1,  2,  3,  4],\n",
              "       [ 5,  6,  7,  8],\n",
              "       [ 9, 10, 11, 12]])"
            ]
          },
          "metadata": {},
          "execution_count": 163
        }
      ]
    },
    {
      "cell_type": "code",
      "metadata": {
        "colab": {
          "base_uri": "https://localhost:8080/"
        },
        "id": "UHoFUha7F6vj",
        "outputId": "c4b7ebb0-a8dc-4b48-b2f1-55c630b554fb"
      },
      "source": [
        "print(a[0])"
      ],
      "execution_count": 164,
      "outputs": [
        {
          "output_type": "stream",
          "name": "stdout",
          "text": [
            "[1 2 3 4]\n"
          ]
        }
      ]
    },
    {
      "cell_type": "code",
      "metadata": {
        "colab": {
          "base_uri": "https://localhost:8080/"
        },
        "id": "prpZ-3DGNbqh",
        "outputId": "e7009b1f-e3cb-4344-d6d8-cfbd07b217db"
      },
      "source": [
        "a.ndim"
      ],
      "execution_count": 165,
      "outputs": [
        {
          "output_type": "execute_result",
          "data": {
            "text/plain": [
              "2"
            ]
          },
          "metadata": {},
          "execution_count": 165
        }
      ]
    },
    {
      "cell_type": "markdown",
      "metadata": {
        "id": "TzrdLOSZGXZw"
      },
      "source": [
        "Dalam Numpy, dimensi disebut **axes**. Contohnya pada variabel a merupakan array 2 Dimensi, Axis pertama memiliki panjang 3 dan axis kedua memiliki panjang 4"
      ]
    },
    {
      "cell_type": "markdown",
      "metadata": {
        "id": "8K5Qxq6Xtbhb"
      },
      "source": [
        "# **Membuat Array**"
      ]
    },
    {
      "cell_type": "markdown",
      "metadata": {
        "id": "v9j9hHcMG19Q"
      },
      "source": [
        "## **np.array()**"
      ]
    },
    {
      "cell_type": "markdown",
      "metadata": {
        "id": "AOgn3PF8HWVe"
      },
      "source": [
        "Untuk membuat array numpy"
      ]
    },
    {
      "cell_type": "code",
      "metadata": {
        "colab": {
          "base_uri": "https://localhost:8080/"
        },
        "id": "jkjpCu1THVeY",
        "outputId": "692884de-2965-422a-f4e5-2c47c576e330"
      },
      "source": [
        "a = np.array([1,2,3]) #passing list ke dalam array\n",
        "a"
      ],
      "execution_count": 166,
      "outputs": [
        {
          "output_type": "execute_result",
          "data": {
            "text/plain": [
              "array([1, 2, 3])"
            ]
          },
          "metadata": {},
          "execution_count": 166
        }
      ]
    },
    {
      "cell_type": "markdown",
      "metadata": {
        "id": "O0fzONpHHtVw"
      },
      "source": [
        "## **np.zeros()**"
      ]
    },
    {
      "cell_type": "code",
      "metadata": {
        "colab": {
          "base_uri": "https://localhost:8080/"
        },
        "id": "iy8TBlHcIf51",
        "outputId": "431cef7a-998b-45b1-8928-29b7e5f199f1"
      },
      "source": [
        "np.zeros(6)"
      ],
      "execution_count": 167,
      "outputs": [
        {
          "output_type": "execute_result",
          "data": {
            "text/plain": [
              "array([0., 0., 0., 0., 0., 0.])"
            ]
          },
          "metadata": {},
          "execution_count": 167
        }
      ]
    },
    {
      "cell_type": "markdown",
      "metadata": {
        "id": "fabuhOElIuFK"
      },
      "source": [
        "## **np.ones()**"
      ]
    },
    {
      "cell_type": "code",
      "metadata": {
        "colab": {
          "base_uri": "https://localhost:8080/"
        },
        "id": "_x7EE7YxIwm1",
        "outputId": "5ce30fc2-59a5-4d1b-fbdf-13963294e3c2"
      },
      "source": [
        "np.ones(3)"
      ],
      "execution_count": 168,
      "outputs": [
        {
          "output_type": "execute_result",
          "data": {
            "text/plain": [
              "array([1., 1., 1.])"
            ]
          },
          "metadata": {},
          "execution_count": 168
        }
      ]
    },
    {
      "cell_type": "markdown",
      "metadata": {
        "id": "_VYGBSfEJfJh"
      },
      "source": [
        "## **np.empty()**"
      ]
    },
    {
      "cell_type": "code",
      "metadata": {
        "colab": {
          "base_uri": "https://localhost:8080/"
        },
        "id": "SBA3QkDtJhsR",
        "outputId": "980f5dc0-674c-460c-f0c4-7a51ba4cb7ce"
      },
      "source": [
        "np.empty(4) #with random numbers depend on state of memory"
      ],
      "execution_count": 169,
      "outputs": [
        {
          "output_type": "execute_result",
          "data": {
            "text/plain": [
              "array([4.9e-324, 9.9e-324, 1.5e-323, 2.0e-323])"
            ]
          },
          "metadata": {},
          "execution_count": 169
        }
      ]
    },
    {
      "cell_type": "markdown",
      "metadata": {
        "id": "CcLrXyO5J20p"
      },
      "source": [
        "## **np.arange()**"
      ]
    },
    {
      "cell_type": "markdown",
      "metadata": {
        "id": "y437V9JSJ85g"
      },
      "source": [
        "Membuat array dengan range of elements"
      ]
    },
    {
      "cell_type": "code",
      "metadata": {
        "colab": {
          "base_uri": "https://localhost:8080/"
        },
        "id": "8BTTeycQJ5fU",
        "outputId": "b204264e-9f2e-4e3c-95bf-5d99e8e06045"
      },
      "source": [
        "np.arange(2,5,1) #(start, stop, step)"
      ],
      "execution_count": 170,
      "outputs": [
        {
          "output_type": "execute_result",
          "data": {
            "text/plain": [
              "array([2, 3, 4])"
            ]
          },
          "metadata": {},
          "execution_count": 170
        }
      ]
    },
    {
      "cell_type": "code",
      "metadata": {
        "colab": {
          "base_uri": "https://localhost:8080/"
        },
        "id": "pf78uijtKQDG",
        "outputId": "ee0af79f-5876-40dc-ef42-2955dc23085f"
      },
      "source": [
        "np.arange(4)"
      ],
      "execution_count": 171,
      "outputs": [
        {
          "output_type": "execute_result",
          "data": {
            "text/plain": [
              "array([0, 1, 2, 3])"
            ]
          },
          "metadata": {},
          "execution_count": 171
        }
      ]
    },
    {
      "cell_type": "markdown",
      "metadata": {
        "id": "Yes9Xua1tg4U"
      },
      "source": [
        "# **Add, Remove, Sort Array**"
      ]
    },
    {
      "cell_type": "markdown",
      "metadata": {
        "id": "V0vKxgToKpic"
      },
      "source": [
        "## **np.append()**"
      ]
    },
    {
      "cell_type": "code",
      "metadata": {
        "colab": {
          "base_uri": "https://localhost:8080/"
        },
        "id": "CG5gDsXpKc8h",
        "outputId": "a5de0fe7-8275-4a57-e928-015f5ec5841a"
      },
      "source": [
        "a = np.array([1,2,3,4])\n",
        "a"
      ],
      "execution_count": 172,
      "outputs": [
        {
          "output_type": "execute_result",
          "data": {
            "text/plain": [
              "array([1, 2, 3, 4])"
            ]
          },
          "metadata": {},
          "execution_count": 172
        }
      ]
    },
    {
      "cell_type": "code",
      "metadata": {
        "colab": {
          "base_uri": "https://localhost:8080/"
        },
        "id": "srq9-0AUK3-K",
        "outputId": "382ed0ee-9dfb-43e4-f51e-63ac07752f26"
      },
      "source": [
        "a = np.append(a, [7,8,6])\n",
        "a"
      ],
      "execution_count": 173,
      "outputs": [
        {
          "output_type": "execute_result",
          "data": {
            "text/plain": [
              "array([1, 2, 3, 4, 7, 8, 6])"
            ]
          },
          "metadata": {},
          "execution_count": 173
        }
      ]
    },
    {
      "cell_type": "markdown",
      "metadata": {
        "id": "O7m_gjqULWl5"
      },
      "source": [
        "## **np.delete()**"
      ]
    },
    {
      "cell_type": "markdown",
      "metadata": {
        "id": "njR0gPMyMIam"
      },
      "source": [
        "Menghapus elemen tertentu di posisi yang ditentukan"
      ]
    },
    {
      "cell_type": "code",
      "metadata": {
        "colab": {
          "base_uri": "https://localhost:8080/"
        },
        "id": "fxVMQMCJLY0q",
        "outputId": "d8eed4ab-c391-4890-c38d-70322b4be5d8"
      },
      "source": [
        "a = np.delete(a, 1) # posisi elemen ke-1\n",
        "a"
      ],
      "execution_count": 174,
      "outputs": [
        {
          "output_type": "execute_result",
          "data": {
            "text/plain": [
              "array([1, 3, 4, 7, 8, 6])"
            ]
          },
          "metadata": {},
          "execution_count": 174
        }
      ]
    },
    {
      "cell_type": "markdown",
      "metadata": {
        "id": "SvYKuA76MAXl"
      },
      "source": [
        "## **np.sort()**"
      ]
    },
    {
      "cell_type": "markdown",
      "metadata": {
        "id": "zI3Ct0aJMMjD"
      },
      "source": [
        "Mengurutkan elemen array"
      ]
    },
    {
      "cell_type": "code",
      "metadata": {
        "colab": {
          "base_uri": "https://localhost:8080/"
        },
        "id": "cOLtlziCLyIE",
        "outputId": "b978a1bd-a8e5-45fa-b4e2-ed1ad640f6a6"
      },
      "source": [
        "a = np.sort(a) # dari terkecil ke terbesar\n",
        "a"
      ],
      "execution_count": 175,
      "outputs": [
        {
          "output_type": "execute_result",
          "data": {
            "text/plain": [
              "array([1, 3, 4, 6, 7, 8])"
            ]
          },
          "metadata": {},
          "execution_count": 175
        }
      ]
    },
    {
      "cell_type": "markdown",
      "metadata": {
        "id": "NvtAe2KWtm51"
      },
      "source": [
        "# **Shape & Size Array**"
      ]
    },
    {
      "cell_type": "markdown",
      "metadata": {
        "id": "Imkf-WpdMx-G"
      },
      "source": [
        "## **ndarray.ndim**"
      ]
    },
    {
      "cell_type": "markdown",
      "metadata": {
        "id": "sR4gXN4DNCUQ"
      },
      "source": [
        "Mengetahui jumlah axes, atau dimensi, dari array"
      ]
    },
    {
      "cell_type": "code",
      "metadata": {
        "colab": {
          "base_uri": "https://localhost:8080/"
        },
        "id": "5BUWekFns5RS",
        "outputId": "2e970da6-b11b-4cbc-99d6-613142dd678a"
      },
      "source": [
        "a"
      ],
      "execution_count": 176,
      "outputs": [
        {
          "output_type": "execute_result",
          "data": {
            "text/plain": [
              "array([1, 3, 4, 6, 7, 8])"
            ]
          },
          "metadata": {},
          "execution_count": 176
        }
      ]
    },
    {
      "cell_type": "code",
      "metadata": {
        "colab": {
          "base_uri": "https://localhost:8080/"
        },
        "id": "Nr6paB_rNPBZ",
        "outputId": "620aaeca-4651-449b-dca5-182c7fa3d818"
      },
      "source": [
        "a.ndim"
      ],
      "execution_count": 177,
      "outputs": [
        {
          "output_type": "execute_result",
          "data": {
            "text/plain": [
              "1"
            ]
          },
          "metadata": {},
          "execution_count": 177
        }
      ]
    },
    {
      "cell_type": "markdown",
      "metadata": {
        "id": "MXnyP_iZsk-e"
      },
      "source": [
        "## **ndarray.size**"
      ]
    },
    {
      "cell_type": "markdown",
      "metadata": {
        "id": "uRnsuSsEsrI2"
      },
      "source": [
        "Mengetahui jumlah total elemen array"
      ]
    },
    {
      "cell_type": "code",
      "metadata": {
        "colab": {
          "base_uri": "https://localhost:8080/"
        },
        "id": "6l5XbF0Vs7Lm",
        "outputId": "ba7cf599-cd1f-48d5-ad5e-0d14c69ed624"
      },
      "source": [
        "a"
      ],
      "execution_count": 178,
      "outputs": [
        {
          "output_type": "execute_result",
          "data": {
            "text/plain": [
              "array([1, 3, 4, 6, 7, 8])"
            ]
          },
          "metadata": {},
          "execution_count": 178
        }
      ]
    },
    {
      "cell_type": "code",
      "metadata": {
        "colab": {
          "base_uri": "https://localhost:8080/"
        },
        "id": "UFCRwxOmsvtN",
        "outputId": "5e3394b2-d474-4ac4-e93a-2a3afa0e801f"
      },
      "source": [
        "a.size"
      ],
      "execution_count": 179,
      "outputs": [
        {
          "output_type": "execute_result",
          "data": {
            "text/plain": [
              "6"
            ]
          },
          "metadata": {},
          "execution_count": 179
        }
      ]
    },
    {
      "cell_type": "markdown",
      "metadata": {
        "id": "vy25xOsQtHnb"
      },
      "source": [
        "## **ndarray.shape**"
      ]
    },
    {
      "cell_type": "code",
      "metadata": {
        "colab": {
          "base_uri": "https://localhost:8080/"
        },
        "id": "861PLBbetLq7",
        "outputId": "0a42455c-0d93-4be9-ce8b-89da8c76e2ae"
      },
      "source": [
        "a"
      ],
      "execution_count": 180,
      "outputs": [
        {
          "output_type": "execute_result",
          "data": {
            "text/plain": [
              "array([1, 3, 4, 6, 7, 8])"
            ]
          },
          "metadata": {},
          "execution_count": 180
        }
      ]
    },
    {
      "cell_type": "code",
      "metadata": {
        "colab": {
          "base_uri": "https://localhost:8080/"
        },
        "id": "CZxDf07NtFHR",
        "outputId": "cfb0f3e6-da49-4a79-c537-1b6ff5cb49cf"
      },
      "source": [
        "a.shape"
      ],
      "execution_count": 181,
      "outputs": [
        {
          "output_type": "execute_result",
          "data": {
            "text/plain": [
              "(6,)"
            ]
          },
          "metadata": {},
          "execution_count": 181
        }
      ]
    },
    {
      "cell_type": "markdown",
      "metadata": {
        "id": "IYVPj8MituRq"
      },
      "source": [
        "# **Reshape Array**"
      ]
    },
    {
      "cell_type": "markdown",
      "metadata": {
        "id": "G0s2-T7ztzCe"
      },
      "source": [
        "## **np.reshape()**"
      ]
    },
    {
      "cell_type": "markdown",
      "metadata": {
        "id": "Om74q14Lt3ZU"
      },
      "source": [
        "Memberikan bentuk baru pada array tanpa mengubah datanya. Array yang ingin di-reshape harus memiliki jumlah elemen yang sama dengan array yang asli. "
      ]
    },
    {
      "cell_type": "code",
      "metadata": {
        "colab": {
          "base_uri": "https://localhost:8080/"
        },
        "id": "clvaO7avuR1N",
        "outputId": "c44ed344-996a-4712-d3aa-3bc0021b721e"
      },
      "source": [
        "a = np.arange(6)\n",
        "a"
      ],
      "execution_count": 182,
      "outputs": [
        {
          "output_type": "execute_result",
          "data": {
            "text/plain": [
              "array([0, 1, 2, 3, 4, 5])"
            ]
          },
          "metadata": {},
          "execution_count": 182
        }
      ]
    },
    {
      "cell_type": "code",
      "metadata": {
        "colab": {
          "base_uri": "https://localhost:8080/"
        },
        "id": "RGUXAx_QuUae",
        "outputId": "0bf57868-a58b-4d28-f6a4-8e206a8b3c29"
      },
      "source": [
        "a = a.reshape(3,2)\n",
        "a"
      ],
      "execution_count": 183,
      "outputs": [
        {
          "output_type": "execute_result",
          "data": {
            "text/plain": [
              "array([[0, 1],\n",
              "       [2, 3],\n",
              "       [4, 5]])"
            ]
          },
          "metadata": {},
          "execution_count": 183
        }
      ]
    },
    {
      "cell_type": "code",
      "metadata": {
        "colab": {
          "base_uri": "https://localhost:8080/"
        },
        "id": "sC8I7qQDunjD",
        "outputId": "c1c31d98-ae6a-4a2a-a944-0573df97f62e"
      },
      "source": [
        "a = a.reshape(6,1)\n",
        "a"
      ],
      "execution_count": 184,
      "outputs": [
        {
          "output_type": "execute_result",
          "data": {
            "text/plain": [
              "array([[0],\n",
              "       [1],\n",
              "       [2],\n",
              "       [3],\n",
              "       [4],\n",
              "       [5]])"
            ]
          },
          "metadata": {},
          "execution_count": 184
        }
      ]
    },
    {
      "cell_type": "markdown",
      "metadata": {
        "id": "J96IW6kfvmSv"
      },
      "source": [
        "# **Convert 1D to 2D Array**"
      ]
    },
    {
      "cell_type": "markdown",
      "metadata": {
        "id": "iDJBq1kIwN0T"
      },
      "source": [
        "## **np.newaxis**"
      ]
    },
    {
      "cell_type": "markdown",
      "metadata": {
        "id": "mT_tBnPjwS6w"
      },
      "source": [
        "meningkatkan dimensi array sebesar satu dimensi bila digunakan sekali. Misal 1D menjadi 2D, 2D menjadi 3D dst."
      ]
    },
    {
      "cell_type": "code",
      "metadata": {
        "colab": {
          "base_uri": "https://localhost:8080/"
        },
        "id": "oxbXZGOvvsaX",
        "outputId": "2eba9fd7-60e1-4aec-fcb8-b85dfd0d67a8"
      },
      "source": [
        "a = np.array([1,2,3,4,5,6])\n",
        "a.shape"
      ],
      "execution_count": 185,
      "outputs": [
        {
          "output_type": "execute_result",
          "data": {
            "text/plain": [
              "(6,)"
            ]
          },
          "metadata": {},
          "execution_count": 185
        }
      ]
    },
    {
      "cell_type": "code",
      "metadata": {
        "colab": {
          "base_uri": "https://localhost:8080/"
        },
        "id": "llRdFyHSwy57",
        "outputId": "f59eb2a2-1a40-49fc-a4ef-01528550c035"
      },
      "source": [
        "a"
      ],
      "execution_count": 186,
      "outputs": [
        {
          "output_type": "execute_result",
          "data": {
            "text/plain": [
              "array([1, 2, 3, 4, 5, 6])"
            ]
          },
          "metadata": {},
          "execution_count": 186
        }
      ]
    },
    {
      "cell_type": "code",
      "metadata": {
        "colab": {
          "base_uri": "https://localhost:8080/"
        },
        "id": "y9A4RuxTwpOp",
        "outputId": "4903bce0-ce17-4192-ce77-0645fe890c73"
      },
      "source": [
        "a2 = a[np.newaxis]\n",
        "a2.shape"
      ],
      "execution_count": 187,
      "outputs": [
        {
          "output_type": "execute_result",
          "data": {
            "text/plain": [
              "(1, 6)"
            ]
          },
          "metadata": {},
          "execution_count": 187
        }
      ]
    },
    {
      "cell_type": "code",
      "metadata": {
        "colab": {
          "base_uri": "https://localhost:8080/"
        },
        "id": "lqtGD0WpwxM4",
        "outputId": "81208e61-9bc0-479c-b67c-14bceb5e9aa5"
      },
      "source": [
        "a2"
      ],
      "execution_count": 188,
      "outputs": [
        {
          "output_type": "execute_result",
          "data": {
            "text/plain": [
              "array([[1, 2, 3, 4, 5, 6]])"
            ]
          },
          "metadata": {},
          "execution_count": 188
        }
      ]
    },
    {
      "cell_type": "code",
      "metadata": {
        "colab": {
          "base_uri": "https://localhost:8080/"
        },
        "id": "giodnZpuxcCr",
        "outputId": "fbddb864-4ebf-44b6-e549-bf8533e2974e"
      },
      "source": [
        "# You can convert a 1D array to a row vector by inserting an axis along the first dimension\n",
        "\n",
        "row_vector = a[np.newaxis,:]\n",
        "row_vector.shape"
      ],
      "execution_count": 189,
      "outputs": [
        {
          "output_type": "execute_result",
          "data": {
            "text/plain": [
              "(1, 6)"
            ]
          },
          "metadata": {},
          "execution_count": 189
        }
      ]
    },
    {
      "cell_type": "code",
      "metadata": {
        "colab": {
          "base_uri": "https://localhost:8080/"
        },
        "id": "a-n58WW2xq_G",
        "outputId": "b63d442a-9a07-4b7b-8452-ad316597ce37"
      },
      "source": [
        "row_vector"
      ],
      "execution_count": 190,
      "outputs": [
        {
          "output_type": "execute_result",
          "data": {
            "text/plain": [
              "array([[1, 2, 3, 4, 5, 6]])"
            ]
          },
          "metadata": {},
          "execution_count": 190
        }
      ]
    },
    {
      "cell_type": "code",
      "metadata": {
        "colab": {
          "base_uri": "https://localhost:8080/"
        },
        "id": "vv9rAivexsyf",
        "outputId": "e0ad92db-20af-43f6-f1eb-09a7892a14b6"
      },
      "source": [
        "# for a column vector, you can insert an axis along the second dimension\n",
        "\n",
        "col_vector = a[:, np.newaxis]\n",
        "col_vector.shape"
      ],
      "execution_count": 191,
      "outputs": [
        {
          "output_type": "execute_result",
          "data": {
            "text/plain": [
              "(6, 1)"
            ]
          },
          "metadata": {},
          "execution_count": 191
        }
      ]
    },
    {
      "cell_type": "code",
      "metadata": {
        "colab": {
          "base_uri": "https://localhost:8080/"
        },
        "id": "-IGzUlB8x8F2",
        "outputId": "5df33ce0-bbbb-408f-e8d0-b06631294e51"
      },
      "source": [
        "col_vector"
      ],
      "execution_count": 192,
      "outputs": [
        {
          "output_type": "execute_result",
          "data": {
            "text/plain": [
              "array([[1],\n",
              "       [2],\n",
              "       [3],\n",
              "       [4],\n",
              "       [5],\n",
              "       [6]])"
            ]
          },
          "metadata": {},
          "execution_count": 192
        }
      ]
    },
    {
      "cell_type": "markdown",
      "metadata": {
        "id": "atsQBwpyyo9s"
      },
      "source": [
        "## **np.expand_dims**"
      ]
    },
    {
      "cell_type": "markdown",
      "metadata": {
        "id": "N4BLUUTWytUV"
      },
      "source": [
        "Memperluas array dengan memasukkan axis baru pada posisi yang ditentukan"
      ]
    },
    {
      "cell_type": "code",
      "metadata": {
        "colab": {
          "base_uri": "https://localhost:8080/"
        },
        "id": "EU1VFKP2y1UP",
        "outputId": "3459c20a-9142-4a0f-da50-9e53318e8426"
      },
      "source": [
        "a = np.array([1,2,3,4,5,6])\n",
        "a"
      ],
      "execution_count": 193,
      "outputs": [
        {
          "output_type": "execute_result",
          "data": {
            "text/plain": [
              "array([1, 2, 3, 4, 5, 6])"
            ]
          },
          "metadata": {},
          "execution_count": 193
        }
      ]
    },
    {
      "cell_type": "code",
      "metadata": {
        "colab": {
          "base_uri": "https://localhost:8080/"
        },
        "id": "xsE3Z3x7y9wx",
        "outputId": "5c3716a5-242f-4f33-c695-9521e88027bc"
      },
      "source": [
        "a.shape"
      ],
      "execution_count": 194,
      "outputs": [
        {
          "output_type": "execute_result",
          "data": {
            "text/plain": [
              "(6,)"
            ]
          },
          "metadata": {},
          "execution_count": 194
        }
      ]
    },
    {
      "cell_type": "code",
      "metadata": {
        "colab": {
          "base_uri": "https://localhost:8080/"
        },
        "id": "0qo9P_8ry_Ea",
        "outputId": "e9ef9d6a-6fc1-4333-8140-a51295412574"
      },
      "source": [
        "# You can add an axis at index position 1 with:\n",
        "b = np.expand_dims(a, axis=1)\n",
        "b.shape"
      ],
      "execution_count": 195,
      "outputs": [
        {
          "output_type": "execute_result",
          "data": {
            "text/plain": [
              "(6, 1)"
            ]
          },
          "metadata": {},
          "execution_count": 195
        }
      ]
    },
    {
      "cell_type": "code",
      "metadata": {
        "colab": {
          "base_uri": "https://localhost:8080/"
        },
        "id": "SDwJKH8-zKds",
        "outputId": "57f1c642-f4d2-405c-fc3e-1a7305723f3c"
      },
      "source": [
        "b"
      ],
      "execution_count": 196,
      "outputs": [
        {
          "output_type": "execute_result",
          "data": {
            "text/plain": [
              "array([[1],\n",
              "       [2],\n",
              "       [3],\n",
              "       [4],\n",
              "       [5],\n",
              "       [6]])"
            ]
          },
          "metadata": {},
          "execution_count": 196
        }
      ]
    },
    {
      "cell_type": "code",
      "metadata": {
        "colab": {
          "base_uri": "https://localhost:8080/"
        },
        "id": "R_ywXx2czeO0",
        "outputId": "4d3c52ff-6521-48c1-e9a8-fc9b2dabeb64"
      },
      "source": [
        "# You can add an axis at index position 0 with:\n",
        "c = np.expand_dims(a, axis=0)\n",
        "c.shape"
      ],
      "execution_count": 197,
      "outputs": [
        {
          "output_type": "execute_result",
          "data": {
            "text/plain": [
              "(1, 6)"
            ]
          },
          "metadata": {},
          "execution_count": 197
        }
      ]
    },
    {
      "cell_type": "code",
      "metadata": {
        "colab": {
          "base_uri": "https://localhost:8080/"
        },
        "id": "OzDLtAaxzksY",
        "outputId": "77ef3d69-ebbd-4d8b-b2d6-c56a5d8f792a"
      },
      "source": [
        "c"
      ],
      "execution_count": 198,
      "outputs": [
        {
          "output_type": "execute_result",
          "data": {
            "text/plain": [
              "array([[1, 2, 3, 4, 5, 6]])"
            ]
          },
          "metadata": {},
          "execution_count": 198
        }
      ]
    },
    {
      "cell_type": "markdown",
      "metadata": {
        "id": "7dzcb6pGzsBt"
      },
      "source": [
        "# **Indexing & Slicing**"
      ]
    },
    {
      "cell_type": "markdown",
      "metadata": {
        "id": "r9qnHBWVzuwI"
      },
      "source": [
        "Cara slice array Numpy sama caranya dengan slice list di Python."
      ]
    },
    {
      "cell_type": "code",
      "metadata": {
        "colab": {
          "base_uri": "https://localhost:8080/"
        },
        "id": "52fBfo9ndjnS",
        "outputId": "7f04c425-6c67-44c6-f8da-5c85574786bb"
      },
      "source": [
        "a = np.array([1,2,3])\n",
        "\n",
        "print('a =', a)\n",
        "print('a[0] =', a[0])\n",
        "print('a[1] =', a[1])\n",
        "print('a[-1] =', a[-1])\n",
        "print('a[0:2] =', a[0:2])\n",
        "print('a[1:] =', a[1:])\n",
        "print('a[-2:] =', a[-2:])"
      ],
      "execution_count": 199,
      "outputs": [
        {
          "output_type": "stream",
          "name": "stdout",
          "text": [
            "a = [1 2 3]\n",
            "a[0] = 1\n",
            "a[1] = 2\n",
            "a[-1] = 3\n",
            "a[0:2] = [1 2]\n",
            "a[1:] = [2 3]\n",
            "a[-2:] = [2 3]\n"
          ]
        }
      ]
    },
    {
      "cell_type": "markdown",
      "metadata": {
        "id": "B98sp8C-e96g"
      },
      "source": [
        "Jika kita ingin memilih nilai dari array yang memenuhi kondisi tertentu, dapat dilakukan di Numpy."
      ]
    },
    {
      "cell_type": "code",
      "metadata": {
        "colab": {
          "base_uri": "https://localhost:8080/"
        },
        "id": "3uPyK-dSfLYb",
        "outputId": "6e6a32de-02f9-4222-8a1c-a05006432da6"
      },
      "source": [
        "a = np.array([[1,4,3,4],[5,5,7,12],[9,10,11,12]])\n",
        "a"
      ],
      "execution_count": 200,
      "outputs": [
        {
          "output_type": "execute_result",
          "data": {
            "text/plain": [
              "array([[ 1,  4,  3,  4],\n",
              "       [ 5,  5,  7, 12],\n",
              "       [ 9, 10, 11, 12]])"
            ]
          },
          "metadata": {},
          "execution_count": 200
        }
      ]
    },
    {
      "cell_type": "code",
      "metadata": {
        "colab": {
          "base_uri": "https://localhost:8080/"
        },
        "id": "Zwp3QeiOfZAn",
        "outputId": "c2fc6f53-ebd0-45c9-bb69-c09da602b8fd"
      },
      "source": [
        "# you can easily print all of values in the array that are more than 4\n",
        "print(a[a>=4])"
      ],
      "execution_count": 201,
      "outputs": [
        {
          "output_type": "stream",
          "name": "stdout",
          "text": [
            "[ 4  4  5  5  7 12  9 10 11 12]\n"
          ]
        }
      ]
    },
    {
      "cell_type": "code",
      "metadata": {
        "colab": {
          "base_uri": "https://localhost:8080/"
        },
        "id": "jb289baDiDBy",
        "outputId": "9ebe798e-81a5-463c-9028-16ac0ae86cc7"
      },
      "source": [
        "b = a[a>=4]\n",
        "b"
      ],
      "execution_count": 202,
      "outputs": [
        {
          "output_type": "execute_result",
          "data": {
            "text/plain": [
              "array([ 4,  4,  5,  5,  7, 12,  9, 10, 11, 12])"
            ]
          },
          "metadata": {},
          "execution_count": 202
        }
      ]
    },
    {
      "cell_type": "code",
      "metadata": {
        "colab": {
          "base_uri": "https://localhost:8080/"
        },
        "id": "uWpbwuMCiXLK",
        "outputId": "86253dae-6d69-4413-d07f-3d9c35cc2853"
      },
      "source": [
        "# you can select elements that are divisible by 2\n",
        "divisible_by_2 = a[a%2==0]\n",
        "print(divisible_by_2)"
      ],
      "execution_count": 203,
      "outputs": [
        {
          "output_type": "stream",
          "name": "stdout",
          "text": [
            "[ 4  4 12 10 12]\n"
          ]
        }
      ]
    },
    {
      "cell_type": "code",
      "metadata": {
        "colab": {
          "base_uri": "https://localhost:8080/"
        },
        "id": "rLyOgodrjA-Z",
        "outputId": "86728bdc-55cb-4c72-81bd-80708e9319ff"
      },
      "source": [
        "c = a[(a >= 5) & (a < 11)]\n",
        "print(c)"
      ],
      "execution_count": 204,
      "outputs": [
        {
          "output_type": "stream",
          "name": "stdout",
          "text": [
            "[ 5  5  7  9 10]\n"
          ]
        }
      ]
    },
    {
      "cell_type": "markdown",
      "metadata": {
        "id": "sJKwrFPljToN"
      },
      "source": [
        "# **Creating Array From Existing Data**"
      ]
    },
    {
      "cell_type": "code",
      "metadata": {
        "colab": {
          "base_uri": "https://localhost:8080/"
        },
        "id": "yUl8ZRMBkE7P",
        "outputId": "bef496b3-4c0a-4ebd-8aa4-5cf16f19ff30"
      },
      "source": [
        "a = np.array([1,2,3,4,5,6,7,8,9,10])\n",
        "a"
      ],
      "execution_count": 205,
      "outputs": [
        {
          "output_type": "execute_result",
          "data": {
            "text/plain": [
              "array([ 1,  2,  3,  4,  5,  6,  7,  8,  9, 10])"
            ]
          },
          "metadata": {},
          "execution_count": 205
        }
      ]
    },
    {
      "cell_type": "code",
      "metadata": {
        "colab": {
          "base_uri": "https://localhost:8080/"
        },
        "id": "pzmPOGz3kK9y",
        "outputId": "7633d041-384f-41e8-b840-00648b088b5e"
      },
      "source": [
        "a1 = a[3:-3]\n",
        "a1"
      ],
      "execution_count": 206,
      "outputs": [
        {
          "output_type": "execute_result",
          "data": {
            "text/plain": [
              "array([4, 5, 6, 7])"
            ]
          },
          "metadata": {},
          "execution_count": 206
        }
      ]
    },
    {
      "cell_type": "markdown",
      "metadata": {
        "id": "ri5oV77pkkRC"
      },
      "source": [
        "## **np.vstack()**"
      ]
    },
    {
      "cell_type": "markdown",
      "metadata": {
        "id": "136x7uRekuUl"
      },
      "source": [
        "Menumpuk secara vertikal"
      ]
    },
    {
      "cell_type": "code",
      "metadata": {
        "colab": {
          "base_uri": "https://localhost:8080/"
        },
        "id": "2ZuOVNJdkj1m",
        "outputId": "0d58321f-7ccb-49b1-d9cf-f426c807f052"
      },
      "source": [
        "a1 = np.array([[1,1],[2,2]])\n",
        "a1"
      ],
      "execution_count": 207,
      "outputs": [
        {
          "output_type": "execute_result",
          "data": {
            "text/plain": [
              "array([[1, 1],\n",
              "       [2, 2]])"
            ]
          },
          "metadata": {},
          "execution_count": 207
        }
      ]
    },
    {
      "cell_type": "code",
      "metadata": {
        "colab": {
          "base_uri": "https://localhost:8080/"
        },
        "id": "t21X3WEMk8O6",
        "outputId": "78fea928-1ff8-4316-ecdb-2eeeb1903e7d"
      },
      "source": [
        "a2 = np.array([[3,3],[4,4]])\n",
        "a2"
      ],
      "execution_count": 208,
      "outputs": [
        {
          "output_type": "execute_result",
          "data": {
            "text/plain": [
              "array([[3, 3],\n",
              "       [4, 4]])"
            ]
          },
          "metadata": {},
          "execution_count": 208
        }
      ]
    },
    {
      "cell_type": "code",
      "metadata": {
        "colab": {
          "base_uri": "https://localhost:8080/"
        },
        "id": "AxBV1-xXlDHB",
        "outputId": "9e9e2dd6-ec93-4c17-b4fc-2ccecaa6284b"
      },
      "source": [
        "np.vstack((a1,a2))"
      ],
      "execution_count": 209,
      "outputs": [
        {
          "output_type": "execute_result",
          "data": {
            "text/plain": [
              "array([[1, 1],\n",
              "       [2, 2],\n",
              "       [3, 3],\n",
              "       [4, 4]])"
            ]
          },
          "metadata": {},
          "execution_count": 209
        }
      ]
    },
    {
      "cell_type": "markdown",
      "metadata": {
        "id": "BYNtSOmClR3o"
      },
      "source": [
        "## **np.hstack()**"
      ]
    },
    {
      "cell_type": "markdown",
      "metadata": {
        "id": "HeCLrsSYnlhM"
      },
      "source": [
        "Menumpuk secara horizontal"
      ]
    },
    {
      "cell_type": "code",
      "metadata": {
        "colab": {
          "base_uri": "https://localhost:8080/"
        },
        "id": "QeXIetDQlMU8",
        "outputId": "899bc89b-e256-4e6c-d220-66951ccd4bc5"
      },
      "source": [
        "np.hstack((a1,a2))"
      ],
      "execution_count": 210,
      "outputs": [
        {
          "output_type": "execute_result",
          "data": {
            "text/plain": [
              "array([[1, 1, 3, 3],\n",
              "       [2, 2, 4, 4]])"
            ]
          },
          "metadata": {},
          "execution_count": 210
        }
      ]
    },
    {
      "cell_type": "markdown",
      "metadata": {
        "id": "C_zLlZVQnhcL"
      },
      "source": [
        "## **np.hsplit()**"
      ]
    },
    {
      "cell_type": "markdown",
      "metadata": {
        "id": "s_FIH9R9njcF"
      },
      "source": [
        ""
      ]
    },
    {
      "cell_type": "code",
      "metadata": {
        "colab": {
          "base_uri": "https://localhost:8080/"
        },
        "id": "_qdxYi3WpEtS",
        "outputId": "39cd6813-6c61-452d-cf53-dabc91cf6f80"
      },
      "source": [
        "arrsplit = np.array([[1,2,3,4,5,6,7,8,9,10,11,12],[13,14,15,16,17,18,19,20,21,22,23,24]])\n",
        "arrsplit"
      ],
      "execution_count": 211,
      "outputs": [
        {
          "output_type": "execute_result",
          "data": {
            "text/plain": [
              "array([[ 1,  2,  3,  4,  5,  6,  7,  8,  9, 10, 11, 12],\n",
              "       [13, 14, 15, 16, 17, 18, 19, 20, 21, 22, 23, 24]])"
            ]
          },
          "metadata": {},
          "execution_count": 211
        }
      ]
    },
    {
      "cell_type": "code",
      "metadata": {
        "colab": {
          "base_uri": "https://localhost:8080/"
        },
        "id": "ytgaSuhgqGrY",
        "outputId": "e4243293-44b6-4396-df5c-42094eb82d8c"
      },
      "source": [
        "# if you want to split this array into three equally shaped arrays\n",
        "print(np.hsplit(arrsplit,3))"
      ],
      "execution_count": 212,
      "outputs": [
        {
          "output_type": "stream",
          "name": "stdout",
          "text": [
            "[array([[ 1,  2,  3,  4],\n",
            "       [13, 14, 15, 16]]), array([[ 5,  6,  7,  8],\n",
            "       [17, 18, 19, 20]]), array([[ 9, 10, 11, 12],\n",
            "       [21, 22, 23, 24]])]\n"
          ]
        }
      ]
    },
    {
      "cell_type": "markdown",
      "metadata": {
        "id": "QyYE62werKdr"
      },
      "source": [
        "## **.view()**"
      ]
    },
    {
      "cell_type": "markdown",
      "metadata": {
        "id": "oP_mnbmirwth"
      },
      "source": [
        "Dapat membuat object array baru yang terlihat sama dengan array asli (shallow copy) dengan menggunakan metode view"
      ]
    },
    {
      "cell_type": "code",
      "metadata": {
        "colab": {
          "base_uri": "https://localhost:8080/"
        },
        "id": "v8ANuSkbremV",
        "outputId": "de650bfe-34ff-414b-d655-b697809d0c21"
      },
      "source": [
        "a = np.array([[1,2,3,4],[5,6,7,8],[9,10,11,12]])\n",
        "a"
      ],
      "execution_count": 213,
      "outputs": [
        {
          "output_type": "execute_result",
          "data": {
            "text/plain": [
              "array([[ 1,  2,  3,  4],\n",
              "       [ 5,  6,  7,  8],\n",
              "       [ 9, 10, 11, 12]])"
            ]
          },
          "metadata": {},
          "execution_count": 213
        }
      ]
    },
    {
      "cell_type": "code",
      "metadata": {
        "colab": {
          "base_uri": "https://localhost:8080/"
        },
        "id": "Ae-82X6NrMX0",
        "outputId": "4ec1a7a3-270c-405e-ce94-07ffce188ee1"
      },
      "source": [
        "# you can create a new array object that looks at the same data\n",
        "b = a.view()\n",
        "b "
      ],
      "execution_count": 214,
      "outputs": [
        {
          "output_type": "execute_result",
          "data": {
            "text/plain": [
              "array([[ 1,  2,  3,  4],\n",
              "       [ 5,  6,  7,  8],\n",
              "       [ 9, 10, 11, 12]])"
            ]
          },
          "metadata": {},
          "execution_count": 214
        }
      ]
    },
    {
      "cell_type": "markdown",
      "metadata": {
        "id": "P8-r4pwAr-Y5"
      },
      "source": [
        "## **.copy()**"
      ]
    },
    {
      "cell_type": "code",
      "metadata": {
        "colab": {
          "base_uri": "https://localhost:8080/"
        },
        "id": "n135P7IqrgeT",
        "outputId": "5afe5d89-c5db-4bbb-9934-790191321dad"
      },
      "source": [
        "# using the copy method will make a complete copy of the array and its data (a deep copy)\n",
        "c = a.copy()\n",
        "c"
      ],
      "execution_count": 215,
      "outputs": [
        {
          "output_type": "execute_result",
          "data": {
            "text/plain": [
              "array([[ 1,  2,  3,  4],\n",
              "       [ 5,  6,  7,  8],\n",
              "       [ 9, 10, 11, 12]])"
            ]
          },
          "metadata": {},
          "execution_count": 215
        }
      ]
    },
    {
      "cell_type": "markdown",
      "metadata": {
        "id": "1Rw9E_ADxe2u"
      },
      "source": [
        "# **Array Operation**"
      ]
    },
    {
      "cell_type": "markdown",
      "metadata": {
        "id": "t3tdq0lLzIih"
      },
      "source": [
        "## **Sum()**"
      ]
    },
    {
      "cell_type": "markdown",
      "metadata": {
        "id": "DqZBoNJ_yqwM"
      },
      "source": [
        "Jika ingin menemukan hasil penjumlahan elemen dalam array, bisa menggunakan `sum()`"
      ]
    },
    {
      "cell_type": "code",
      "metadata": {
        "colab": {
          "base_uri": "https://localhost:8080/"
        },
        "id": "lQUwyIO9yliO",
        "outputId": "13ce9b53-f8bf-420f-f24d-cbbf4a0c864d"
      },
      "source": [
        "a = np.array([1,2,3,4])\n",
        "a.sum()"
      ],
      "execution_count": 224,
      "outputs": [
        {
          "output_type": "execute_result",
          "data": {
            "text/plain": [
              "10"
            ]
          },
          "metadata": {},
          "execution_count": 224
        }
      ]
    },
    {
      "cell_type": "markdown",
      "metadata": {
        "id": "1FAIu7DnzHLD"
      },
      "source": [
        "Untuk menambahkan baris atau kolom dalam array 2D, harus ditentukan axis-nya"
      ]
    },
    {
      "cell_type": "code",
      "metadata": {
        "colab": {
          "base_uri": "https://localhost:8080/"
        },
        "id": "-1Wyk0iIy84q",
        "outputId": "7a6a0d7b-41ef-470a-fd1b-fad9bad476b0"
      },
      "source": [
        "a = np.array([[1,2,3,4],[5,6,7,8]])\n",
        "a"
      ],
      "execution_count": 225,
      "outputs": [
        {
          "output_type": "execute_result",
          "data": {
            "text/plain": [
              "array([[1, 2, 3, 4],\n",
              "       [5, 6, 7, 8]])"
            ]
          },
          "metadata": {},
          "execution_count": 225
        }
      ]
    },
    {
      "cell_type": "code",
      "metadata": {
        "colab": {
          "base_uri": "https://localhost:8080/"
        },
        "id": "DMYjoBgu4KbM",
        "outputId": "a8202780-ab4b-404d-c95a-853bfa55a42c"
      },
      "source": [
        "a.sum()"
      ],
      "execution_count": 226,
      "outputs": [
        {
          "output_type": "execute_result",
          "data": {
            "text/plain": [
              "36"
            ]
          },
          "metadata": {},
          "execution_count": 226
        }
      ]
    },
    {
      "cell_type": "code",
      "metadata": {
        "colab": {
          "base_uri": "https://localhost:8080/"
        },
        "id": "GfswdDhczdjg",
        "outputId": "4ade25eb-fe21-4884-c07e-416fd3ee1af2"
      },
      "source": [
        "# you can sum the rows\n",
        "a.sum(axis=0) # dijumlahin ke bawah"
      ],
      "execution_count": 227,
      "outputs": [
        {
          "output_type": "execute_result",
          "data": {
            "text/plain": [
              "array([ 6,  8, 10, 12])"
            ]
          },
          "metadata": {},
          "execution_count": 227
        }
      ]
    },
    {
      "cell_type": "code",
      "metadata": {
        "colab": {
          "base_uri": "https://localhost:8080/"
        },
        "id": "UAgnASvNzs2S",
        "outputId": "ed310cce-0d38-43ba-87cc-c7293693f5bf"
      },
      "source": [
        "# you can sum the columns\n",
        "a.sum(axis=1) #dijumlahin ke samping"
      ],
      "execution_count": 228,
      "outputs": [
        {
          "output_type": "execute_result",
          "data": {
            "text/plain": [
              "array([10, 26])"
            ]
          },
          "metadata": {},
          "execution_count": 228
        }
      ]
    },
    {
      "cell_type": "markdown",
      "metadata": {
        "id": "V9mVD7R02wzg"
      },
      "source": [
        "## **max()**"
      ]
    },
    {
      "cell_type": "code",
      "metadata": {
        "colab": {
          "base_uri": "https://localhost:8080/"
        },
        "id": "--P_huha3X-k",
        "outputId": "8ab87de9-a7c5-419a-8762-e265adbdf7a5"
      },
      "source": [
        "a.max()"
      ],
      "execution_count": 229,
      "outputs": [
        {
          "output_type": "execute_result",
          "data": {
            "text/plain": [
              "8"
            ]
          },
          "metadata": {},
          "execution_count": 229
        }
      ]
    },
    {
      "cell_type": "code",
      "metadata": {
        "colab": {
          "base_uri": "https://localhost:8080/"
        },
        "id": "OUrrtc0Q3iRj",
        "outputId": "6f6df212-a8c4-40b6-92be-a6a9624d8a67"
      },
      "source": [
        "a.max(axis=0)"
      ],
      "execution_count": 230,
      "outputs": [
        {
          "output_type": "execute_result",
          "data": {
            "text/plain": [
              "array([5, 6, 7, 8])"
            ]
          },
          "metadata": {},
          "execution_count": 230
        }
      ]
    },
    {
      "cell_type": "markdown",
      "metadata": {
        "id": "mdyQzhsX3eUS"
      },
      "source": [
        "## **min()**"
      ]
    },
    {
      "cell_type": "code",
      "metadata": {
        "colab": {
          "base_uri": "https://localhost:8080/"
        },
        "id": "11q-5BrK3rLv",
        "outputId": "ee3d03e5-97f7-4e24-f733-8bdfd1cae5a2"
      },
      "source": [
        "a.min()"
      ],
      "execution_count": 231,
      "outputs": [
        {
          "output_type": "execute_result",
          "data": {
            "text/plain": [
              "1"
            ]
          },
          "metadata": {},
          "execution_count": 231
        }
      ]
    },
    {
      "cell_type": "code",
      "metadata": {
        "colab": {
          "base_uri": "https://localhost:8080/"
        },
        "id": "HhdeGQ423sgM",
        "outputId": "28bc44ff-a20e-4488-d988-dcaec5cf063d"
      },
      "source": [
        "a.min(axis=1)"
      ],
      "execution_count": 232,
      "outputs": [
        {
          "output_type": "execute_result",
          "data": {
            "text/plain": [
              "array([1, 5])"
            ]
          },
          "metadata": {},
          "execution_count": 232
        }
      ]
    },
    {
      "cell_type": "markdown",
      "metadata": {
        "id": "JwZ5lQDy32Rf"
      },
      "source": [
        "## **mean()**"
      ]
    },
    {
      "cell_type": "code",
      "metadata": {
        "colab": {
          "base_uri": "https://localhost:8080/"
        },
        "id": "c8AkotRx35cd",
        "outputId": "186eedbe-0ed1-4f83-a00b-02b5c12e5067"
      },
      "source": [
        "a.mean()"
      ],
      "execution_count": 233,
      "outputs": [
        {
          "output_type": "execute_result",
          "data": {
            "text/plain": [
              "4.5"
            ]
          },
          "metadata": {},
          "execution_count": 233
        }
      ]
    },
    {
      "cell_type": "markdown",
      "metadata": {
        "id": "oXHdMnJp36ya"
      },
      "source": [
        "## **std()**"
      ]
    },
    {
      "cell_type": "code",
      "metadata": {
        "colab": {
          "base_uri": "https://localhost:8080/"
        },
        "id": "UOjgpdJ839pc",
        "outputId": "8aeeac6a-28d9-4c89-fe29-9a82883f5370"
      },
      "source": [
        "a.std()"
      ],
      "execution_count": 234,
      "outputs": [
        {
          "output_type": "execute_result",
          "data": {
            "text/plain": [
              "2.29128784747792"
            ]
          },
          "metadata": {},
          "execution_count": 234
        }
      ]
    },
    {
      "cell_type": "markdown",
      "metadata": {
        "id": "ZqWqkHow08zh"
      },
      "source": [
        "# **Broadcasting**"
      ]
    },
    {
      "cell_type": "markdown",
      "metadata": {
        "id": "1JgfehgP1MuR"
      },
      "source": [
        "![image.png](data:image/png;base64,iVBORw0KGgoAAAANSUhEUgAAAngAAABwCAYAAACNWw1+AAAgAElEQVR4Ae19C5gVxZ2vidmYKL7ZxGQTIxqEUUAF4i77JV6ye/Pwxi9ZvZ/JJS4mBBPRGBeTTUTXiMYHxgcxWTcP4ytmXfd+Zm8QdiXIRhii4AsZgQjODI9hZpgZDMLwmIGBM//7VZ9T53Sfrqquqv736eruv5+H7qmu+tW//o/qX1d1VR8Bgv+Gh4eBfo7pAByTh3yEYoR8gHyAfIB8gHzAWR84QsDvfMKC71yHYMjyy9KH2QX2f7gej9AI0kV5Kw6mxlLJL6pHIlekM9tgYZWR4ajabtNOWT0sXXZNVY+ojCit3A61nUXleBo/RulD57oMS5auwhSV4Wn86C8vSvNfl53blhPhqbBk10TporRyffZ2FslrmyaTT5auqkdUhqXxX31ZUf76PKK/ReVEaaKy9Wn+cv5zlq/+b15WlC5K4/nxsED5IKySQXXNL6fOuQyLpYP3T3AARZY/qi5ROVFaFA677i/nP6+/5seqzzfMtB++lwfumYIyMg4QkCmIW7azCRYvLyvDr5scZVjldKbUgJ0909el1ecR/i2qR5QWxo4geLUCIWGFgtTyBxqGkFddfymoyIj6MLHU7TSTS4XFZJbJLUtX4Q0Pi2Wzw0rO7uo2qOtVt0XcflV9cjxzLHk9JbJzRPzW605uF3a7MbeNHM8cq17W2t+YWCwOxHjytqhiBxNLVQ/iNU4s+FHDh+S6Ebe/Zruw3JhYqnoKb2du16zY2UDOoN3NfTBYvuyjSoInd9qwg4vAs5LmRjtxDFrTuT4eZvsxsWptwfE3N2TTt4te+/XxotuPiYVjMz0dKOqy7mAVmPwm09Cjvm2idaaPFe0zjuiJ7CwY5MC0sz5WtP/h+ExmfDPxfkJuGyXBa5ShilmP3Cjm+uBY/IgTQOZyUL3J6ozblx9J38nqOy39YtqXY/FjWm2iepP1VW5ffiR9J6vvtPRrZl8ieIqpz3w6SFqOmX69WXriy5KsFCf2vk12ttcd+R3pjnxA7QNE8BIfPlUbgByU9EM+QD5APkA+QD5APoDtA9kgeKXGGr6ESPowsZjxMfEwsVAcE9POGliY7RdjmQ2no+hQ4Lti2dQxZVMmKfmVuE7YWa1LmfzYOsbEw8SStd8oXcPORniCOPGXx2y/HMuuf5DjmfuhDZZNGb9uXTrHbAsmFtMRBl42CF5EMLrkMCSLeSdDOiOdkQ+QD5APkA+QD+D6ABG8LJHH3KwUw3Xi3HUKZGfBikDymdz5eZb6XpKVYjKDPpATgmc31C3vMLHxTG5OirqtbvwKPGOHxcQy0QnPi10/Nh6X03+0qMPIzhyfH/11255jYtnKgFkOsz2YWDZtxKzfACvSJw2wjPsdGz3FLdOI9iRdB8fnRw2dkJ1jEFkDPScSA+H6c0LwNBw3EYVSvXKSTLoh3ZAPkA+QD5APkA+k5QNE8LJE/CKfrgwCCRMrSzrMgqxkmxhP0QYxkAVfSENG8j/yvzT8jupE97tYBA9jlQdntphYHBPr6IRshp0upsxFwGK+4mo7VX7sqsyuypVVO6t8wPSay7YxbYsqv6vtxJQri+1XyWxzDVOfrmLZ6IWViUXwbCt1r5zeh3vdk5tGK8xsQnY20xf5F+mLfADbB2hz62L4lAt2RiF4mKwXO5hkeNgyY+IVAUtmF+x0TF0y2TDxioCFrTNs/5DhFcE2mG0kOxejb8C2M7YPyuIZMx1T5qSxUAgepvLSwHKBadfaHV4JU7tm8+SDiYeJZdOWeGXcsnO8toR9AtM2mFjY7Sw6HqZtXMUquo2x2092DveX2Dp2AS9s5wIQvHCj7Y3tKpYLzpUnGcjO9jGSJT9wx87hhw9M2bJkE9dljWcXsrPr9uXyxbNzuP/ExNPHKgDB4wajY9jpSCekE/IB8gHyAfIB8oE8+gARPFqajb40O4+BQm2iGwD5APkA+QD5QJZ8gAgeETwieOQD5APkA+QD5APkAznzgZwQPP056Wj27SoW9pMTZjuxZWsEHmb7MbGw2+6ybNhtFeFhth8TSyRrnDRM2TCx4rQprbKY7cfEYvrAxMPESstWcerFbD8mFp6dc0Lw4hjZlbJuOkg0IXZFf1mRw2U7Y8uWFZtkQU5M22BiZUF3WZIR0zauYmXJHlmQVW5nInipDcnKjWJOqjgWP2bBKUlGsjP5gNgHMOOYY/Ej6Vys86zrhduXH7PeHpJf7Kdm9iWCNzzMPm9A7x4UQAdZsnOWZBV3RBRTOnohO5Of6PgJ5SE/sfEBIngFIDY2jkFlqEMhHyAfIB8gHyAfyK4PZIPglaIVnPQnP2ydHFMuJgMmHiaWrX4C5TTsHMivIucaWJjtF2OZDadrt03VbsE1sWzqmLIpk5T8Slwn7KzWpUx+bB1j4mFiydpvlK5hZyM8QZz4y2O2X45l1z/I8cz90AbLpoxfty6dY7YFE4vpCAMvGwQvIhhdchiSxbyTIZ2RzsgHyAfIB8gHyAdwfYAIXpbII+Aan4KJ9Ek+QD5APkA+QD6QTx/ICcGzG+qWOzU2nonzKOq2IngKPGNyi4llohOeF7t+bDwup/9oUYeRnTk+P/rrtj3HxLKVAbMcZnswsWzaiFm/AVakTxpgGfc7NnqKW6YR7Um6Do7Pjxo6ITvHWHBpoOdEYiBcf04InobjJqJQqldOkkk3pBvyAfIB8gHyAfKBtHygkASvq7sb2jq6oK2js3LsgtaOTmjtYMfyr21rF7RuZWnB9NrfomthHIbH6iqXq8eq1Vet11+fV39FngpOGYvjla8NDAyYP3VEPqlRUKYVlMOO2KZUKkHL+jeqMcF9tHys+TL3SRZPwTzlGGv1Yinos8F84XK167VrXj0Mi8dpJT5YevlXjufy9Vo59jeL5z+2boKhQ0PmsZLQw+Hhw4dhyaJX4NmnW2BJ5cfO+d+yc56XHf15q38vaIElC8rX/NdF536s+vNy/jWebOxcVd67tuhFYD6TWtwkZCdqj969oL29Hdi9taurC7rZsbsLuru6y+fescu75qV3d3nXy/nLZVg6K1stz8/ZsZqfY/jKVMuxtMqvktbNZKjI5OFWsFg6l5Udu/11dHVBZ2cnvP3225n35VgED2OVBw8eTCyOKTt2dm+H3oHDufntHxgMOSKmPouAxXzF1XbK/LgRMrdsbMtNnLT37oShoSFn7Fw6fBgef2AV/Gr+697vscqR//2r+8rp1b/rr89vgVAZDSxZGXk9YTk4Bj96ZR9oRtWtyu91rrkaz5hyqfSAWY8OVltrW+g+pJIP65qObLp1caxDhw5Bb29vrPZwLN26k8gXi+AlIVAjMDu78k/wGqHH7NXB9rTWexqlfGU95Yrg9ZUJniu2ZSN4foLHCRYnTfwYlc6u1+fl5DCUXkcSo67zuoV1+LA8nAeaYbjB25m4YksTOfK6uXVbW2tu+leP4PX1xWqPC3ZGIXguMFWTAMvbCJ5qihbTNphYJvaKkxdbZky8LGAVleA1wjYygucnVZk6ZwQvYw9QjbCzjU5clYu1RSZba5v5CJ4My0ZnmGXKI3higocpc9JYKAQPU7GNwMobwduvfAcP850YTKzGj6S58ESVnH9j2qaG1bIhP1O0mypTtMnZwMynD5fEI3iZInW+Ubxf0QieowS3Fs/xfV+OlbsRvJhTtPF1bdafDA+HbVMAghdutD3BO4T4PhIe1v5Bi0UWGXvSbmywhH3Gvn5MLNOAj58/TyN4m0JTtJi2McdSj+C1VN/Nywzhy+AInnlcm9vZX0f4ITMenh877XObEby0ZZbVrxrBk5VRp2PaWR+rAAQvfJOzJ3huLswQLbJQO1tYJ5SfdCLygTwRvPYQwUvX5mqCF17YECB6kQswIsr7R96wzgtB8NL1GVGMupLWZjFF64rs9XJgvINXj5nG30TwcrCadkCwijYNZ6I689f554nghUfw0rVXeRXtSidG6rQXW6iIJRE8R6doG+PnuZui7Yu3itaF+yERvBwQPBrBa0wH5kLANlqGXBE8x97Bq98mJTBChzWqFoHz2H2IU8FE8ApO8MwXWWD2Z2wPxpLgPTSbOsojeETwHHFo/TlpZuykp2g7+wfhdytWwd9d+iVYuW4j4nt74iliO4JnpjObIHG7DGb7MbGwyWo82ZImeK09O+Gu+/8ZZlx5FfQNiv0ba8/K+FO08XRZHw9YiywYSZt/8xL4nx+fBtfN/GetEcGf3fE8XHD+xfCB950OUyZeGCqjPaLnJ5C5IXiYdsbEYn0DJh4m1jCgvINXKsGuXbvgoYceglmzZmnxC0bsHnzwlzB+/HiYMmUKdHZ2aZVT6dKc4OHqUiVbfT+i+ptG8BIYwZs2/XKY8vELYNQZH4VnmlemRPCwHQ6beBQVD9sumHhhrCQJXmf/AJzywQ/CFy+bDh/+yGmw40CyBM+1KVrrd/Dqpkkvv+RGGHnSX8CZp0+E//P574TIWv3I4KP3roFTPzgGpl9yAzx896tw702LI8vUYwj/zg3BS7NvCseg6gauvtZYLIwp2p6eHhg5ciRcdtllcOqpp2oRtZ//4ufwiU98Avbs2eORw/7+fq1yKt3hL7JI0qfkdi4owesOkK4+ZJLXtecA9A2WYOLHzm8QweOraOWGVjkzXUsy+DCxuX35ERNbjJXkNik9A4ege+9BWLX+zQrBKwXiEmvkjuPwL1m44u9lghfvHTw20sZIGiNcF069XIvg3Xn9AjjtQ03wi3mr4Ce3/B4evme1V95m1C5QhghebGJh75u8T+BHcTzb40fjYRA8FhPst2XLFm2Cd+yxx8LuXbuge3u3R/IwNtsuEzwXp2jN7FtQgpf8lyzYdNPEyY0ieOFPlSUZyFnFDm9REN1ppdVWV2Rt2dieKOli5KtG8BIewXPsHTzrETz/tKjv/MKpX9EieDd88xH40AdGw3HHngQnHPfn8P6RH4FH71sTfxSPCF6KBC/9vqwV8VNlJgTvPe95DzQ1jYUPf/jDwM43bNwY2w7lKVrxRsdp3RNs6iWChzx6x0cLPILHRvBWpDVFm37A2zgklXHLbklO0fJYaRTBc3MEr/YtWuG0p4/ARV3XHcGbc/Uv4bgRJwFfYDFp/CfhG1++A4XgYe7MT32BW31BlD0wt0kxIXhHHXUUtLaWP5O2atUqGD16dOzFFtmaopX7STYInsb3DU06lqQXWbAbV5XgpfYOntzoPFBNdMbLJHrUsLN2/RpYmO0XY5kNp2u3zXCTarFsav/gZYjgBfXE9YJhK4wpWv7NWdkU7UN3vwL3z10KP7/zhSqBu/Xb/w4f+Yux1b+/eunN8KmPT6v+HUUkpdcfaIaSRtxZ6S4pXEksYdpZjmXXP8jxgr6qo2cbLFmZpAkeW0zR1dXlTcX623b00UfD3r17vVE7djzxxBNhaGhIaxRP1habKVoZll9Wk3MMvGwQPEkQmijLn7ezK9kpWvZe0bbd++HcSZPh6aXLYdvugUSnuexW0Zp3Bn4d0nn+9cemiZMmeCw2VqxeCx869SPQuXu/904eH9nDPmZlBC/wXptvBE+afl8LPPTDl+EzF1wGX/zcbO+cj859b9aDcMQRR8Dn/mZGlcD99PY/wIijT4AH570Ij9z7Gow5YzL8w4z7q9dlBE5WP8vvXaMpWi1Skde+s7WtPIoWq32lEgwODsLGNzd67+Cx76wfOnTY0+vBgwc9Xx4xYkRAz+PGjYNVq14ERsoWLlwIkyZNDly3kYdG8JBJl40RbMskPYL3yJO/gWOOGVH9fXzqJ4ngZdhfbP3Muhy4Qx6TJnh/+5kLq3HCYuaBhx9LLFby+i1atljiqHcfXf2956hjgG2DwojXDVc/7KV/4VPfCBC4b3/9X+Dd734v/NmfHQVNH/1Y4JqM4NXSJXvnEcGLTSys+wwH+leMbVLYKN0FF1wAjMTx3xNPPOHplY3KsbT3v//9AT0fPlyCU045xXv/7uSTT4ZehG/IMoLXRxsdu3IjMhvqTprgYY88ROGpR/DMdKPuYDCxbHwHu35sPFGbLOowIngcnx9FMpim1bCSJnhRvo15HWcEr6YbdaxE69xskYWEVPlG+GoELOozZZhYvrpyRfDw7Cz3k6Tr4Pj8GO2Tw5F9jxwLYxWtXFcasluRXHF77EbwxFiNa1O4/mJO0XbrTtEmu20D1s1LTfCSCgzCbVzgpqdr9TYpGYgP3+bJ7b1va7+b0wjbmhE8H5GyInUNKJ8rgpdMzLmyOl7m33Hkw1xFK5OvUel2BC8Zn4nTZiJ47AbguwlgkS5sHNVefVYEL/JJLb6z9u8+ALt3DUL/rgOAsTcRc/S3evfBqy90w/rX+mBP/4HAUH1kINi02aaM7ElSF0s3n6wexHQ1wUt2WxPsGFISPEyda2Jlg+DVRvsejyKWLhE8mQ1k6TYxY4PVqDI27ZGV0ZQZc5FFZF8uk5Wna8osq8cjeH2VbVJiYsnqCKVj1lPBIoIn2SZFRahMbzyYWKK6rQgeDwTkI3uH4vILF8D0z/7WO7LzK//3fwJ7TyLk0AZ1t77xJ7j8fy2oYjJc9mt+dmss3DgyFaGsdIo2Aw9F/lhhMagkeAa+iGX3SIJX98UK/SlYwWgdJpaM6LlE8FKwJ5ZfZBWHb1WSVfn9cpdH8BA2OsYkbRY+TQRPQvD8NwfXz10ieIzIfaWOiDGCV4pB8Hb07IOvfu5pj9Bd8XeL4F/mvQI//sGLMPPzC6F5CRE8f8eEfS4leBmMm/jfoo0/qu23Tz3BU61SFZO7lvLqVQHhekxB6MzrERDGSp0BLLZNisVNyK8TOsf1sUbqs62yF10j60yqrsAIXoZ9upgEL+FtUhpNCNlS8riO3tzc7K1QWr5sWSwsRuQY6dq39yDcd/Mqj5R5I3gl+xG8X9zzqodz/df/G4aGykvm2Y2ELZ/nf8dtf9Ll47zbkrRsMvxGbJPSyFjBIHhsI1W2ku+ZZ56JFSdM5/UEj5M4Tpr4MSqdXa/PW1+G/11/lJWrz8f+VuX1rrERvAbvVyfzXUpvPFHEWEXrit3oHTwfq83aU1vS++A18qbF6lKN4Ona5rllz3l7DD333HPSG5cuFg/S+XN9BO+wXYfDpny/NW1xeTrWYrTOVGYuu+yIiZcFrDy9g2eyTYrMNitXrvTiZNGiRdI4qfcdGZaM4InIVSbSMjhFK7NNvQ11/i4CFtODrJ02U7QyLB19J5lHNUWLKXPSWAUYwQuPHNlvk3IIcY8uPKz9g6oRvHD7WWCwm8uYMWNgxowZ3gaRjNixDVHZ8eDQQbjmmmvgjDPOqLuJibFkgTb/ljLB+0aMd/D27jkAf/+Z33rv9C1Z0A7f+vJi+MYl/wlXXfpf8ORD6+vksyORYfnN2hku75dDjDVnzhw45phjlL+Ojg6D9onrUcvml9N/XsPK9xRtrZ0qPZ199tkwc+ZMYButcoK3cNEiL26+efXVcPrppwN7EFFhiK6pCV5tcUMmyB2bsnV4BO/mm+cqY43F4lNPPaVhQ3M7i2xfS8PG88cxP8esQ46FstGxb+CopiPejsYd8Ufw5Hozb6cMK5xeAIIXdooijeDJnIfdrObNm+eRuhNOOAGuuuoq7/zaa6+F448/Ht7xjnfAD269Nda2EsERvLDzyWTzp+/Yvq9C8BaE3u1jiyx+/bPXNTrlsA/460jj/LrrrvP0zUi17Ld1a/rvF+ab4EX7Bdtc9Z577oF3vvOdcNxxx8E3r/mmZ69Zs2bBiSed6J3fdNNNHvkz9SM1wZO/9+YRPsU7dqkRwtRH8EDaF7AHKlmc8fQnn3xSWt7UtkXM79Qq2phEkd7Bi6nANAOgffNmeL1tC7zeuhnWtrKj+Fe+ttm7vra1fGR5eXo1rY1dY1i1PFVMr55amWp6pc4aFpehhhGSTYK1d1/5O3w2Ot21axfMnj070PnNuuoq2LlzZ+zOzk/wbBdZ9Hbv9QgeI3PXTFsMf+rbD3v7D8BdN7zgTdtee9ni2HLa6C1uGUaw9+/fL/wNDJTT4648jisjK7/ixZc9v/b7Ijvnv2o8BHzT78s1f2YxUvb/ylEWgxWs+ljx/81jjR914vnl1/8IBw/qfaOyXncsTr773e8G4oSN6sWJk9Lhw7Dkv16A5qUtsHzpGljuHdl5+de8dI13rXydp5Xz+tN4fnZk6fU/fp2XaX7WX4c6vwnWMwuXW41k1us6ib9V8cbicGD//lgPs0nInDXMtWvXAnso1fp18Hwdkvzi9A5dfM18MrzNmzdDH98mJcNcp5gjeNobHWdjny/VO3hRnQS7cV188cXwziOP9G5eRx55JFx00UWxbly8Tj/BsyUru98erBK8R368pkrm1r7S6xG8r170NBw8eKiazut2/djf3w89Pb3Q09sLPT090Oud90BPLztnx15vCjDtduRpBG9T307rm/ju3bvh0ksvBRYfbMSHjehdeOGF8NZbb1n7HiN4r6xshQ0tO7LzWyOX9YXla611kbSf79mzxxdb5Thjcef9estHjMVqSbfDZfy21jZn7W+qt/IIHsI2KSmTw2ISvJytorUheAcPHoCZX5vprQg86aST4LbbbvNuXHfeeSewv9/73vfC9OnTrW+ILKA4wYvzDt7QwcPw9YsXeWTu3x+uvXO3cf1bXtpXPvc0HDygS/DkUzimHUDc/FpTtFvSnaJVrqLN2D54bDGSzafKhoYOwZVXXum9v8VeXWDxwQje3Llz4X3vex8cffTRMG3aNDhwwHDTbfYebCmDBE9BRl0meHPmXO/ZjU/Hio7JT9G60//E7b9E5XP3Dh59izb6HRaRI+Cnmb3fZb/Iws0RPRuCx25ITU1NcOuttwIbTVrmW2Sxd+9emD9/vvfyOJvasLUXJ3hRGx3/6JYXYfb038Hsy38HO9/aH6yvNAy3fWeFR+bumvN89dqSBZu8tKu/9IzltJCZz6h1YI51++23w6jTRnm/00adBqNGjar82Hn5787Ozmp71fWr4tBcNn9dRR/BY/4/btw47wGIjeLxRRaLFi0EFifs/Ty2yGJwcNDQViVvoZPVCJ5iFG2D6pqInJnmF2FU0lwmeHf98C6QxZmXftooWLhwYcWG8WLGHz/Dw5hYLM4x8TCxhiF726TI22++yEKOFfQHVV/tv4aDV9ARvG7E1bDpk7791X3w/E7hP/c7Tu2c3aC48/lX0fI0Nn3Lz3WPXVv74R/+/nfej21EzN6dYxsf87TfPP5GCPOW2cu9fCzvW337QteXPbOlijNvzvPwk9tfgplfKGPf+/2Vofy6sqaTL9ou8g9+87L8yGzpP6/Z1q5tYaw8ETzbffDYAxDXZ5XgLaxtk+K/zvPpHNkiCyuCpyBZsaZ7Y5I9lwmejj1wY8k2FsMxaCa7v7z/3FYeXi4aq62ttRonejJzbPeOZYLn4hStyA6itLJOi0nw6B28UCCuWLHCWz3LjnGCs2PTrsBnyhhp8/9+/dPwqtdbZzdX84gIHtvQ+OH711TzcLx//NpSb0PlOPJSWXXn2rKxPTcPQyb74Mn84qWXXoLjjz8OFi+Ov7jHOYIXkzhmn+CpY0HmE5Re1lv2RvDk9qZVtCm/PBgnqGibFLljx9ErK3vgwCHYtnm39LfzT+E9+9hK2W1bdkPH5t3SL1OwVbhdHf2wetV2WLmsE9o37IQDg7rv3iXX3rj6cr08jeAl5ztE8JLTretxlUf5crdNSm9frMEOF2ycjRE8jc/fmOwInb938MKkSce5THSmgxc7j4adtevQwMJsvxhLPnSu3Q6EBymxbOqbKy+TJ4KHMYLH9YJhvzwSvJJG3FnpLilcSXxh2lmOZdc/yPHUMS3Suw2WrEwWR/BkbbGZopVhifSuk4aBlw2CJwlCHSWJ8uRvBM+O4Il0Q2nmnWSedUYELzl/QCF4Md+bi/XOXt2U7gvN7m6TkucYdaVt+XsHj0bwMjmEmfQI3tx5d8Ok8/8Kzp00GebeeTf0DuB9lkz0nVubVbSudAokR3IEAkO3SRK8tVu64JIvTYPx554Hf33BVPj9i6sTfd8vzj54GLqsx8DcJmXJopfgs5/6Atx/7yNae+qtWv4m/M3Uz8LYM8+Gv536Wa0yUWSQ3sFzO5br/Q/7b4wRvO7ubvj0pz8N5553LkydOhVeeeXlSI4xf/6PYMqUKTB58mRvtTsbfYvbtvI7eC4usjDzsWKO4CW4yGLH4GG47Z77oHn1Wni+ZT2cc95E+MkvH0n0xkUEz8zp4wa/WXmLaRhwpz1JErwlz6+Ch574v/DyG+3wr/9vIZw8ciRs2rE7sVjBmKI1s73ajigjeC074M4f/ATGnDkOpvzlBfC9b98aSdbWr+6B8ePOg1tuugd+v/g1eOqJZyPLRJE7dp0IntreYd+x6BuMZrOSxg+2F2ME7+2334bm5mZgX5JYunSpt/9kWG/BetlWX+vWrYPW1lYYPXo0PPrYYzgEj97BCyo6yhDJXTdz5KRH8PyjbP90251w5bdmJ3bTYnXVtkkR2cNMN2obYWKJZI1Kw64fGy9K/iSvY7alhtWyoS1R3/XHyikf+KBH9vxpmOe226QEY6Kmm2C6uW2xRvBWNb8J61ZvhxmXXw3XaxC8ZxashLPGToD1q7fDSyvaUMhd/ggenp3j+kn88phtkWNhL7Jgn5B717veZUTW7rjjDrjiiisMyojbU34Hz3SKVowV3366fUu4fhrBG0huH7uOXftg9JgxiU890QiebgBQPtPORj2Ch/fqwW+ffQ4mnHsebN93MDFCiUPw8HwIawSPj67pErzHH14Ao04bDWc3nQOTJ/4VTBg/Cd5Y06cgeqprtU+XeSN4DV4MYerPlB/Pf+t1iUXw+vp6va/DnH/++fDDu+4yIGvDcOqpp8Lq1auNytS3g/1dnqI1JXjJ6VYko04aEbyECN72fUNw2YyZ8L3vz03shsVHN4jguRdYOsGXhTxqgofzcLT6zS0wpuksWPHaumYe9mMAAA0uSURBVERjJXNTtIYLKJQEz4f12C9/CyefNBLWvNgBG9b0wSf/x2fgR/c8pCB4NRLHyaToSFO0xe6HsAge+ybwsmXL4O6774YJEyZokzX2ScEbb7zR+0JM3L6VCJ7RuwBuOX7SU7Q9+w/BldfOhq/NuhrYOSdiSR2J4LnlX3E7F5fKJ03w/ritB84ePwEW/r458ThxbQSvhPwliwDBqxC6V1/YDAueWg4rlq6rErjf/NtSb3EFJ2nfv+Eub3qX/217ZKtoMbZ2cMn/SRb9vrWttU2bjOnotTRc8gheS0uLh1sqlWDNmjWwdl14tfacOXPgiplXeCNvOthReYjgZZngdW1P9Gbyj/90M1z65cugvW8XbHprN7Cp2qTIHcNlTzxRDkvX9TuqJHQFGYwXJnOSBO/N7X+CCedO9BZYsDhhv+17aYrWlGCx6dXXVm2F6V/+Onz72pu8cz7l+uiD/wFHHHEEXDHjW1WC99If2mDkyX8Of/jv9bDu1e1w3jnnw6O/+E31umn9PD9N0abbxyTRb5lgYqyi3bZtG+zYscO7n7HzY489FrZv3+79zb4LzXx5xIgRgfvdvHnz4JJLLgG2QGPPnj0wsL/ue+YWfa/dO3ju2R9lijZrT21JjuCxqdmJHzsfmsaN90Ymzho/Aa6bc2OiBE81godpG0wsk44jTl5smTHxsoCVJMH79X887U3NshE89jtr3ARY/urricWKyRRtI2yD9Q7ea6s64MzRZ8HoM8bC6I82wdgx4+DVFzZ5hO3JxxfDGaefCdd/5wcBAvfjex/x8jeNHQ+fv+iLgWucsJkeszhF2wg72/RfrsrF2iKTrdXiW7T1WOxTmePGjYOmprNg7NixcPsdd1TJ3NDQEDQ1NcGkSZOqaUyeiRMneiN955xzDrDfzJkzA9dt9F8meOJtUupltsHnZZLGQiF4XFg3j+GVJfYED3O6FQ+rOKtoG/WEFPYZe9/GxFK1H7OeGlaSBC/JUW0RdniKttZOe/tym5hjqVfR6i1sMCVh/vxslG/9az0o5I7hFmMEz9zOat/CxuP+6D9i1iHHwtgmhemKTcUygsWOat3524h7jj9Fi9kWGVY4vQAEL2z4/H3JYjC1QEgrAKnesF8noZM8ETznNjqO8w6eb9GEn7SleZ7+CB5QP2gxHYnVb2AtssCSJw4OI3h9fbSKNpMBZT+Ch7NqUDS6oJU2KK5/YIAIXpxgdq5sQTY61vJ5xFXurhE87EUWaZK76gheigTDuTgumC7yRvB6ieA1ZhQBO3AzS/AkNzvVO3jYuiO8bPq8rd1oBC85e2eS4ClGDtMfwUvOVrbxU6Ry2Kto09Qd/hRtOr5JU7QS0tTo0YU49RHB0w0emsIx6TSVq2glo8lx/Djpsu29O4G9qG2igyTzqt/B09t7Lu1RO3/9RPCi+qF89z82iyySjK842GWCJ15kEQe30WVzQvDCLxeqFJm/ETybbVLMdKbSZzavYbbfVSx2w4knG43g+W/a8XQZjJOStyHrKytbzRc5KEbRNqiutQhIo2l+EUYlLT8ED9fOQbv7/cnm3F3ZsjdFK9elR/CMvkUrx7KzPw5eTgieWaDkb5EFJ3h+p/Cfm+nHziGpDj29xbELL8uPTOf+87g2CGO1bGxPbNuSpEfs6vFdewcPa5sU/yharPOYZC8/BC9uHMUpH45Bs37FX95/HkcmVjYaC2sVrV5747ZHXb5M8FwcwRPZQZRWbl8xCV53shsd199Ykv6bpmjVwepCh5FVGXI1gufaFG2cVbSKkbRYJC8GLhG8YvdDGBsdu9JP0jt4GV4hlL8RPFpF60rHkDc58jSCF94HL90bsnMjeDHIHSOVRPDS9ae0+57sTdHK7cUIXp/RFK0cK027ZGMErxStPJMdoft27ICOrh7Bb3s5rdt/jaVV0lmZwDVfPn96d6UMS+M/UX2ya4H0oExbBTiDg3YEz0RnDXFSDTtry6GBhdl+MZZ86Fy7HQgPUmLZ1DHFy7zZ1l7x/6AfiuIn6JuqmNmujov6OPPiqRJrLDYCMVDB4mnV67X6t1bSNm3tiP2tSq4XDPuxjVw3vNEO7W3boL11W/noP6+mdcjzePk7YFM1L8fqCGKyfJW8tfp8ebzy5b89LI7Xug02VctuE9RTq++P6zcmtzmtRjxj2IRjoNpZGsN2/UNjZJP3D7L62afFenp6Qr9eQVo1X284f/WaoJwSS5BfhaW6xj6P1t/fb7QgS6YX7lOmRwy8bBA8aYDIndBUmZSfdEk+QD5APkA+QD5APpAXHyCClyXy6NAGuHkJACfbQXY2enJ20oZZ6ldIVvI38oFc+gARvCw5Nt34MxiEFtMwZOcM2plGPYhom/qARd+QpfsVyZp6P5YTgocdKNh4JoGPXTcmHiaWiU54Xuz6sfG4nGkcMduCiZWGLurrxGwPJla9nDp/Y9bvKpaOHpLOg6mbpGWNwsdsCyZWlNyNuI7ZHkwsm7aH688JwbNRBpWhJ27yAfIB8gHyAfIB8oF8+gARPBpGTn0YmTqXfHYuZFeyK/kA+QD5QHo+EIvgYSzj5cbHxOKYWEeXZZO1EVPmImAxPbraTpmNXZbZZV26LJvK1ljXitJ+V9uJKZfKJzDrwcRSyWxzDVM2V7Fs9MLKxCJ4tpW6VI59UN0leUiWfNqD/CyfdqV4JbuSD5APuOoDKAQPk/U2SlHYMmPiFQGL7OzuiCGm/zE7Y+M1wncwZS4CFtkZ189d9RlsO2O2sxH9gsvtF+kSheA1SrF29YRXltjhsKeURmBh1tEomfP2BIdpA0wslZ4x68HEUsmc9jXMdmJiMb3I8GTpNrp0FcumLY0qg6kzlZ0x24MpMyYWZhuxsbDbiYknwwqnF4DgYRue8OwJMumOdEc+QD6QlA8AvW5DrxyRD/h8gAieTxnOd7y0AW4xgpfsXAw7Z6nvIVnJJ8kHMucDRPCy4rR0089ccDn/wJAV3yc5yffJB8gHyAeMfSCC4JkOecvyy9KH2QX2f1hwj9AI0kV5K4ZXY6mmBUT1SOSKdDIbLKwyMhxV223aKauHpcuuqeoRlRGllduhtrOoHE/jxyh96FyXYcnSVZiiMjyNH/3lRWn+67Jz23IiPBWW7JooXZRWrs/eziJ5bdNk8snSVfWIyrA0/qsvK8pfn0f0t6icKE1Utj7NX85/zvLV/83LitJFaTw/HhYoH4RVMqiu+eXUOZdhsXTw/gk+/MnyR9UlKidKi8Jh1/3l/Of11/xY9fmGmfbD9/LAPVNQRsYBAjIFcct2NsHi5WVl+HWTowyrnM6UGrCzZ/q6tPo8wr9F9YjSwtgRBK9WICSsUJBa/kDDEPKq6w+/XKiqHxNLVY/8RWlzPTGZZXLL0m1ks8Myb49aNhw8dVvMfIbJK8czx5K3vyStR16/Sl9i2eywVPWkd03ZFhC3X67/xtlZJYP5NXE7lbqR9suYWA3yC04s+FHatpo8ct2I26+yCSaWqh7ZPUVef629YVxxO+2wVPUkcC0rdjaQM2gfsW2CeaL1qiR4mTC0RiBHKcWNduIYtNZWfTzM9mNi1doS7cg6ed2QTd8uOm2SdfiistHt15ctGgvHZqJ2GKVZd7COyF/t3/RtE60ffSyyc6P9QN82jbUzplw4Os2Mb1ZjGKfdYbvLbaMkeGGgpAQsIq7cKOZ651j8WER9FqHN3L78WIQ2F7GNmPblWPxYRH0Woc3cvvxYhDYXsY1m9iWCp5x6K6ID5bfNWXriy5Ks5g8k+fUxU12QnckXTH2G8pPP6PoAEbzEh0/JGXWdkfKRr5APkA+QD5APkA/g+EA2CF4Jp7G6TiP65Idu2fp8mFgMGxMPE6u+3VZ/Y9pZAwuz/WIss+F0K51pPKCIZVPHlE2ZpORX4jphZ7UuZfJj6xgTDxNL1n6jdA07G+FFxA1m++VYdv2DHM/cD22wbMpg2gYTC7MtmFisjRh42SB4EcGIaXDCMu8kSGekM/IB8gHyAfIB8gG3fIAIXpbIY25WBLoVBM51SmTn4P5RWYpRkpVsRz5APuCID+SE4NkNdctv7Nh4JoRGUbfVjV+BZ+yEmFgmOuF5sevHxuNy+o8WdRjZmePzo79u23NMLFsZMMthtgcTy6aNmPUbYEX6pAGWcb9jo6e4ZRrRnqTr4Pj8qKETsnMMcmqg50RiIFx/TgiehuMmolCqV06SSTekG/IB8gHyAfIB8oG0fIAIXpaIX+TTlUEgYWJlSYdZkJVsE+Mp2iAGsuALachI/kf+l4bfUZ3ofheL4GGs8uDMFhOLY2IdnZDNsNPFlLkIWMxXXG2nyo9dldlVubJqZ5UPmF5z2TambVHld7WdmHJlsf0qmW2uYerTVSwbvbAysQiebaXuldP7cK97ctNohZlNyM5m+iL/In2RD2D7AG1uXQyfcsHOKAQPk/ViB5MMD1tmTLwiYMnsgp2OqUsmGyZeEbCwdYbtHzK8ItgGs41k52L0Ddh2xvZBWTxjpmPKnDTW/wcHQlvFMVpFQAAAAABJRU5ErkJggg==)"
      ]
    },
    {
      "cell_type": "code",
      "metadata": {
        "id": "6r5W6mDq0_qP"
      },
      "source": [
        "a = np.array([1,2,3,4])\n",
        "b = np.array([[1,2,3],[4,5,6]])"
      ],
      "execution_count": 235,
      "outputs": []
    },
    {
      "cell_type": "code",
      "metadata": {
        "colab": {
          "base_uri": "https://localhost:8080/"
        },
        "id": "AhLHKFcU1mvX",
        "outputId": "2a49b68f-0be8-4766-f977-d5b9c021174b"
      },
      "source": [
        "a * 2"
      ],
      "execution_count": 236,
      "outputs": [
        {
          "output_type": "execute_result",
          "data": {
            "text/plain": [
              "array([2, 4, 6, 8])"
            ]
          },
          "metadata": {},
          "execution_count": 236
        }
      ]
    },
    {
      "cell_type": "code",
      "metadata": {
        "colab": {
          "base_uri": "https://localhost:8080/"
        },
        "id": "4tY-ZVMl1zL1",
        "outputId": "f110d1c5-c71d-4111-d832-16d971544254"
      },
      "source": [
        "b * 2"
      ],
      "execution_count": 237,
      "outputs": [
        {
          "output_type": "execute_result",
          "data": {
            "text/plain": [
              "array([[ 2,  4,  6],\n",
              "       [ 8, 10, 12]])"
            ]
          },
          "metadata": {},
          "execution_count": 237
        }
      ]
    },
    {
      "cell_type": "code",
      "metadata": {
        "id": "lK-LNwTe12Ez"
      },
      "source": [
        "# a * b ==> akan menghasilkan value error karena kedua array dimensinya berbeda"
      ],
      "execution_count": 238,
      "outputs": []
    },
    {
      "cell_type": "markdown",
      "metadata": {
        "id": "LGhgN3dS40x-"
      },
      "source": [
        "# **Membuat Matriks**"
      ]
    },
    {
      "cell_type": "code",
      "metadata": {
        "colab": {
          "base_uri": "https://localhost:8080/"
        },
        "id": "iwvPQe0O4_c1",
        "outputId": "c8434d70-e23f-4a08-952f-a8d8e01507e5"
      },
      "source": [
        "np.zeros((3,2)) # baris 3 kolom 2"
      ],
      "execution_count": 239,
      "outputs": [
        {
          "output_type": "execute_result",
          "data": {
            "text/plain": [
              "array([[0., 0.],\n",
              "       [0., 0.],\n",
              "       [0., 0.]])"
            ]
          },
          "metadata": {},
          "execution_count": 239
        }
      ]
    },
    {
      "cell_type": "code",
      "metadata": {
        "colab": {
          "base_uri": "https://localhost:8080/"
        },
        "id": "C_lixPD25Hz3",
        "outputId": "f07ae5a1-b1d3-474b-a9a6-d951632acbe0"
      },
      "source": [
        "np.ones((2,3)) # baris 2 kolom 3"
      ],
      "execution_count": 240,
      "outputs": [
        {
          "output_type": "execute_result",
          "data": {
            "text/plain": [
              "array([[1., 1., 1.],\n",
              "       [1., 1., 1.]])"
            ]
          },
          "metadata": {},
          "execution_count": 240
        }
      ]
    },
    {
      "cell_type": "code",
      "metadata": {
        "colab": {
          "base_uri": "https://localhost:8080/"
        },
        "id": "r079eeGL5MNw",
        "outputId": "33df0c38-088c-48cd-aba3-5f427ea27431"
      },
      "source": [
        "np.random.random((3,4)) # baris 3 kolom 4"
      ],
      "execution_count": 242,
      "outputs": [
        {
          "output_type": "execute_result",
          "data": {
            "text/plain": [
              "array([[0.22463827, 0.8709012 , 0.70646812, 0.41350046],\n",
              "       [0.13618572, 0.70050792, 0.05408029, 0.21092546],\n",
              "       [0.80749075, 0.25370366, 0.56071192, 0.26289386]])"
            ]
          },
          "metadata": {},
          "execution_count": 242
        }
      ]
    },
    {
      "cell_type": "markdown",
      "metadata": {
        "id": "_xUuQ86J5tKY"
      },
      "source": [
        "# **Aritmatika Matriks**"
      ]
    },
    {
      "cell_type": "markdown",
      "metadata": {
        "id": "V51nTk665zXZ"
      },
      "source": [
        "Kita dapat melakukan operasi matematika jika matriks-matriks tersebut berukuran sama. NumPy menanganinya sebagai *position-wise operations*"
      ]
    },
    {
      "cell_type": "code",
      "metadata": {
        "colab": {
          "base_uri": "https://localhost:8080/"
        },
        "id": "KzwmIhRz5wWa",
        "outputId": "1a92df46-0fcc-4c2d-ff9b-8648b3c3fc75"
      },
      "source": [
        "a = np.array([[1,2],[3,4]])\n",
        "a"
      ],
      "execution_count": 243,
      "outputs": [
        {
          "output_type": "execute_result",
          "data": {
            "text/plain": [
              "array([[1, 2],\n",
              "       [3, 4]])"
            ]
          },
          "metadata": {},
          "execution_count": 243
        }
      ]
    },
    {
      "cell_type": "code",
      "metadata": {
        "colab": {
          "base_uri": "https://localhost:8080/"
        },
        "id": "3P3QLSE66K4B",
        "outputId": "684e6d2a-bcba-4460-a8e5-d4f73a5c0572"
      },
      "source": [
        "ones = np.ones((2,2))\n",
        "ones"
      ],
      "execution_count": 245,
      "outputs": [
        {
          "output_type": "execute_result",
          "data": {
            "text/plain": [
              "array([[1., 1.],\n",
              "       [1., 1.]])"
            ]
          },
          "metadata": {},
          "execution_count": 245
        }
      ]
    },
    {
      "cell_type": "code",
      "metadata": {
        "colab": {
          "base_uri": "https://localhost:8080/"
        },
        "id": "vf_uuuaq6Uyn",
        "outputId": "e6590b9e-8baf-42bf-acb4-4702df12a407"
      },
      "source": [
        "a + ones"
      ],
      "execution_count": 246,
      "outputs": [
        {
          "output_type": "execute_result",
          "data": {
            "text/plain": [
              "array([[2., 3.],\n",
              "       [4., 5.]])"
            ]
          },
          "metadata": {},
          "execution_count": 246
        }
      ]
    },
    {
      "cell_type": "code",
      "metadata": {
        "colab": {
          "base_uri": "https://localhost:8080/"
        },
        "id": "icM6gZLK6ZIW",
        "outputId": "fe7667be-db01-4705-bb5d-0deb22747cd2"
      },
      "source": [
        "ones_row = np.ones((1,2))\n",
        "ones_row"
      ],
      "execution_count": 250,
      "outputs": [
        {
          "output_type": "execute_result",
          "data": {
            "text/plain": [
              "array([[1., 1.]])"
            ]
          },
          "metadata": {},
          "execution_count": 250
        }
      ]
    },
    {
      "cell_type": "code",
      "metadata": {
        "colab": {
          "base_uri": "https://localhost:8080/"
        },
        "id": "cFcl8fSS62Kj",
        "outputId": "84864e2d-a472-4869-adad-b022ba808083"
      },
      "source": [
        "ones_column = np.ones((2,1))\n",
        "ones_column"
      ],
      "execution_count": 251,
      "outputs": [
        {
          "output_type": "execute_result",
          "data": {
            "text/plain": [
              "array([[1.],\n",
              "       [1.]])"
            ]
          },
          "metadata": {},
          "execution_count": 251
        }
      ]
    },
    {
      "cell_type": "code",
      "metadata": {
        "colab": {
          "base_uri": "https://localhost:8080/"
        },
        "id": "L4GWuQu56uX1",
        "outputId": "3b61dde9-00f9-4394-8c74-acff1123bfe6"
      },
      "source": [
        "a + ones_row"
      ],
      "execution_count": 252,
      "outputs": [
        {
          "output_type": "execute_result",
          "data": {
            "text/plain": [
              "array([[2., 3.],\n",
              "       [4., 5.]])"
            ]
          },
          "metadata": {},
          "execution_count": 252
        }
      ]
    },
    {
      "cell_type": "code",
      "metadata": {
        "colab": {
          "base_uri": "https://localhost:8080/"
        },
        "id": "wCmKGIS-69-4",
        "outputId": "d1695558-1b73-442b-efd6-1f4bcdcc4c60"
      },
      "source": [
        "a + ones_column"
      ],
      "execution_count": 253,
      "outputs": [
        {
          "output_type": "execute_result",
          "data": {
            "text/plain": [
              "array([[2., 3.],\n",
              "       [4., 5.]])"
            ]
          },
          "metadata": {},
          "execution_count": 253
        }
      ]
    },
    {
      "cell_type": "markdown",
      "metadata": {
        "id": "FGoEPYKz7bbT"
      },
      "source": [
        "# **Dot Product**"
      ]
    },
    {
      "cell_type": "code",
      "metadata": {
        "colab": {
          "base_uri": "https://localhost:8080/"
        },
        "id": "sDAvktsB7dxs",
        "outputId": "ce173371-0192-4990-cfb9-004dfdd37316"
      },
      "source": [
        "a1 = np.array([[1,2],[3,4],[5,6]])\n",
        "a1"
      ],
      "execution_count": 254,
      "outputs": [
        {
          "output_type": "execute_result",
          "data": {
            "text/plain": [
              "array([[1, 2],\n",
              "       [3, 4],\n",
              "       [5, 6]])"
            ]
          },
          "metadata": {},
          "execution_count": 254
        }
      ]
    },
    {
      "cell_type": "code",
      "metadata": {
        "colab": {
          "base_uri": "https://localhost:8080/"
        },
        "id": "AkgqYQga70aj",
        "outputId": "3f5ff6e8-7e3d-4043-bdee-661acb6d6bd2"
      },
      "source": [
        "a1.shape"
      ],
      "execution_count": 255,
      "outputs": [
        {
          "output_type": "execute_result",
          "data": {
            "text/plain": [
              "(3, 2)"
            ]
          },
          "metadata": {},
          "execution_count": 255
        }
      ]
    },
    {
      "cell_type": "code",
      "metadata": {
        "colab": {
          "base_uri": "https://localhost:8080/"
        },
        "id": "fvSgO5Vi78re",
        "outputId": "e4efb30c-12c6-49ea-d2e6-ffea2d65db1b"
      },
      "source": [
        "a2 = np.array([[1,2,3,4],[5,6,7,8]])\n",
        "a2"
      ],
      "execution_count": 256,
      "outputs": [
        {
          "output_type": "execute_result",
          "data": {
            "text/plain": [
              "array([[1, 2, 3, 4],\n",
              "       [5, 6, 7, 8]])"
            ]
          },
          "metadata": {},
          "execution_count": 256
        }
      ]
    },
    {
      "cell_type": "code",
      "metadata": {
        "colab": {
          "base_uri": "https://localhost:8080/"
        },
        "id": "TyICPSpc8GtH",
        "outputId": "481ca21d-6db1-4385-b606-ff8b0c64cef6"
      },
      "source": [
        "a2.shape"
      ],
      "execution_count": 257,
      "outputs": [
        {
          "output_type": "execute_result",
          "data": {
            "text/plain": [
              "(2, 4)"
            ]
          },
          "metadata": {},
          "execution_count": 257
        }
      ]
    },
    {
      "cell_type": "code",
      "metadata": {
        "colab": {
          "base_uri": "https://localhost:8080/"
        },
        "id": "httPAojs8JSk",
        "outputId": "ea66f48c-0e0a-48f3-de9d-b2b422b82427"
      },
      "source": [
        "a_dot = np.dot(a1,a2)\n",
        "a_dot"
      ],
      "execution_count": 260,
      "outputs": [
        {
          "output_type": "execute_result",
          "data": {
            "text/plain": [
              "array([[11, 14, 17, 20],\n",
              "       [23, 30, 37, 44],\n",
              "       [35, 46, 57, 68]])"
            ]
          },
          "metadata": {},
          "execution_count": 260
        }
      ]
    },
    {
      "cell_type": "code",
      "metadata": {
        "colab": {
          "base_uri": "https://localhost:8080/"
        },
        "id": "3tj3tZ5a8M_u",
        "outputId": "f88c38f5-ecc2-4002-a518-f47cd0fde2ee"
      },
      "source": [
        "a_dot.shape"
      ],
      "execution_count": 261,
      "outputs": [
        {
          "output_type": "execute_result",
          "data": {
            "text/plain": [
              "(3, 4)"
            ]
          },
          "metadata": {},
          "execution_count": 261
        }
      ]
    },
    {
      "cell_type": "markdown",
      "metadata": {
        "id": "CIseDP_v8foc"
      },
      "source": [
        "# **Matrix Indexing**"
      ]
    },
    {
      "cell_type": "markdown",
      "metadata": {
        "id": "42XSCDIK8ls9"
      },
      "source": [
        "![image.png](data:image/png;base64,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)"
      ]
    },
    {
      "cell_type": "code",
      "metadata": {
        "colab": {
          "base_uri": "https://localhost:8080/"
        },
        "id": "62zTavq18h9I",
        "outputId": "f4c0cbb6-2271-42bb-b52d-649e2307b7f8"
      },
      "source": [
        "data = np.array([[1,2],[3,4],[5,6]])\n",
        "data"
      ],
      "execution_count": 262,
      "outputs": [
        {
          "output_type": "execute_result",
          "data": {
            "text/plain": [
              "array([[1, 2],\n",
              "       [3, 4],\n",
              "       [5, 6]])"
            ]
          },
          "metadata": {},
          "execution_count": 262
        }
      ]
    },
    {
      "cell_type": "code",
      "metadata": {
        "colab": {
          "base_uri": "https://localhost:8080/"
        },
        "id": "PS5e4v7mAlSd",
        "outputId": "a4f66ca7-5d79-43d7-a9d0-dc4d71ac2bce"
      },
      "source": [
        "data[0,1]"
      ],
      "execution_count": 263,
      "outputs": [
        {
          "output_type": "execute_result",
          "data": {
            "text/plain": [
              "2"
            ]
          },
          "metadata": {},
          "execution_count": 263
        }
      ]
    },
    {
      "cell_type": "code",
      "metadata": {
        "colab": {
          "base_uri": "https://localhost:8080/"
        },
        "id": "my2NxvYaAroi",
        "outputId": "c4c96788-7559-461f-a52a-764cfb856f08"
      },
      "source": [
        "data[1:3]"
      ],
      "execution_count": 265,
      "outputs": [
        {
          "output_type": "execute_result",
          "data": {
            "text/plain": [
              "array([[3, 4],\n",
              "       [5, 6]])"
            ]
          },
          "metadata": {},
          "execution_count": 265
        }
      ]
    },
    {
      "cell_type": "code",
      "metadata": {
        "colab": {
          "base_uri": "https://localhost:8080/"
        },
        "id": "JROXvwFhAyty",
        "outputId": "30893e59-af10-4d24-b74a-8fb8b2f485fd"
      },
      "source": [
        "data[0:2,0]"
      ],
      "execution_count": 266,
      "outputs": [
        {
          "output_type": "execute_result",
          "data": {
            "text/plain": [
              "array([1, 3])"
            ]
          },
          "metadata": {},
          "execution_count": 266
        }
      ]
    },
    {
      "cell_type": "markdown",
      "metadata": {
        "id": "riBdpHGbA64F"
      },
      "source": [
        "# **Transposing & Reshaping**"
      ]
    },
    {
      "cell_type": "markdown",
      "metadata": {
        "id": "oxbLZhB-C2Iq"
      },
      "source": [
        "## **Transpose**"
      ]
    },
    {
      "cell_type": "markdown",
      "metadata": {
        "id": "FIvPb9fUCYeJ"
      },
      "source": [
        "Kebutuhan umum saat menangani matriks adalah kebutuhan untuk rotate. Hal tersebut sering terjadi ketika melakukan perkalian dot product yang mana perlu menyelaraskan dimensi mereka. "
      ]
    },
    {
      "cell_type": "code",
      "metadata": {
        "colab": {
          "base_uri": "https://localhost:8080/"
        },
        "id": "Iz_C0fFbCv-f",
        "outputId": "06adde15-005e-4e28-dec2-bc29dcc88f81"
      },
      "source": [
        "data"
      ],
      "execution_count": 267,
      "outputs": [
        {
          "output_type": "execute_result",
          "data": {
            "text/plain": [
              "array([[1, 2],\n",
              "       [3, 4],\n",
              "       [5, 6]])"
            ]
          },
          "metadata": {},
          "execution_count": 267
        }
      ]
    },
    {
      "cell_type": "code",
      "metadata": {
        "colab": {
          "base_uri": "https://localhost:8080/"
        },
        "id": "OjUC27zxC4fN",
        "outputId": "f3f535da-63ed-401b-b13e-7cbf28a09436"
      },
      "source": [
        "data.T"
      ],
      "execution_count": 268,
      "outputs": [
        {
          "output_type": "execute_result",
          "data": {
            "text/plain": [
              "array([[1, 3, 5],\n",
              "       [2, 4, 6]])"
            ]
          },
          "metadata": {},
          "execution_count": 268
        }
      ]
    },
    {
      "cell_type": "markdown",
      "metadata": {
        "id": "njI1jxreDCaL"
      },
      "source": [
        "## **Reshape**"
      ]
    },
    {
      "cell_type": "markdown",
      "metadata": {
        "id": "eU6po4QiDFnt"
      },
      "source": [
        "Dalam kasus penggunaan lebih lanjut, kita terkadang mungkin perlu mengganti dimensi matriks tertentu. Sering terjadi pada dalam aplikasi machine learning dimana model tertentu mengharapkan bentuk tertentu sebagai masukan yang berbeda dari kumpulan data."
      ]
    },
    {
      "cell_type": "code",
      "metadata": {
        "colab": {
          "base_uri": "https://localhost:8080/"
        },
        "id": "IO1YSQt9Do8q",
        "outputId": "7faaad4f-369b-47e7-8a7b-ee6bed331287"
      },
      "source": [
        "data_col = np.array([[1,2,3,4,5,6]]).T\n",
        "data_col"
      ],
      "execution_count": 272,
      "outputs": [
        {
          "output_type": "execute_result",
          "data": {
            "text/plain": [
              "array([[1],\n",
              "       [2],\n",
              "       [3],\n",
              "       [4],\n",
              "       [5],\n",
              "       [6]])"
            ]
          },
          "metadata": {},
          "execution_count": 272
        }
      ]
    },
    {
      "cell_type": "code",
      "metadata": {
        "colab": {
          "base_uri": "https://localhost:8080/"
        },
        "id": "VjZSX0t1Dyat",
        "outputId": "73462794-791d-4b76-8bff-0a989e3ceacb"
      },
      "source": [
        "data_col.reshape(2,3)"
      ],
      "execution_count": 273,
      "outputs": [
        {
          "output_type": "execute_result",
          "data": {
            "text/plain": [
              "array([[1, 2, 3],\n",
              "       [4, 5, 6]])"
            ]
          },
          "metadata": {},
          "execution_count": 273
        }
      ]
    },
    {
      "cell_type": "code",
      "metadata": {
        "colab": {
          "base_uri": "https://localhost:8080/"
        },
        "id": "8Fl9FWzXELmV",
        "outputId": "f90fb6db-7e17-4a4f-a3cf-711ce5194fd5"
      },
      "source": [
        "data_col.reshape(3,2)"
      ],
      "execution_count": 274,
      "outputs": [
        {
          "output_type": "execute_result",
          "data": {
            "text/plain": [
              "array([[1, 2],\n",
              "       [3, 4],\n",
              "       [5, 6]])"
            ]
          },
          "metadata": {},
          "execution_count": 274
        }
      ]
    },
    {
      "cell_type": "code",
      "metadata": {
        "colab": {
          "base_uri": "https://localhost:8080/"
        },
        "id": "llIyZ1P1EXRc",
        "outputId": "f3050c4d-5322-4e0a-c5fc-b7087993abff"
      },
      "source": [
        "b = np.arange(6)\n",
        "b"
      ],
      "execution_count": 276,
      "outputs": [
        {
          "output_type": "execute_result",
          "data": {
            "text/plain": [
              "array([0, 1, 2, 3, 4, 5])"
            ]
          },
          "metadata": {},
          "execution_count": 276
        }
      ]
    },
    {
      "cell_type": "code",
      "metadata": {
        "colab": {
          "base_uri": "https://localhost:8080/"
        },
        "id": "Dnxm9kdpEcwi",
        "outputId": "25ee820f-47be-416f-aede-1ff871f54773"
      },
      "source": [
        "b.reshape(2,3)"
      ],
      "execution_count": 277,
      "outputs": [
        {
          "output_type": "execute_result",
          "data": {
            "text/plain": [
              "array([[0, 1, 2],\n",
              "       [3, 4, 5]])"
            ]
          },
          "metadata": {},
          "execution_count": 277
        }
      ]
    },
    {
      "cell_type": "markdown",
      "metadata": {
        "id": "hhbcpMBJE4GY"
      },
      "source": [
        "# **N-Dimensional Array**"
      ]
    },
    {
      "cell_type": "markdown",
      "metadata": {
        "id": "JTFXJnloE8Ku"
      },
      "source": [
        "![image.png](data:image/png;base64,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)"
      ]
    },
    {
      "cell_type": "code",
      "metadata": {
        "colab": {
          "base_uri": "https://localhost:8080/"
        },
        "id": "4Aop2fPiFA2n",
        "outputId": "4e553059-4f62-432d-fcc7-a5e169e6ce44"
      },
      "source": [
        "ndarr = np.array([[[1,2],[3,4]], [[5,6],[7,8]]])\n",
        "ndarr"
      ],
      "execution_count": 280,
      "outputs": [
        {
          "output_type": "execute_result",
          "data": {
            "text/plain": [
              "array([[[1, 2],\n",
              "        [3, 4]],\n",
              "\n",
              "       [[5, 6],\n",
              "        [7, 8]]])"
            ]
          },
          "metadata": {},
          "execution_count": 280
        }
      ]
    },
    {
      "cell_type": "code",
      "metadata": {
        "colab": {
          "base_uri": "https://localhost:8080/"
        },
        "id": "TlA2NRx3FeK8",
        "outputId": "b13e3008-4410-41d3-bc0e-ab0683104ca4"
      },
      "source": [
        "ndarr.shape"
      ],
      "execution_count": 281,
      "outputs": [
        {
          "output_type": "execute_result",
          "data": {
            "text/plain": [
              "(2, 2, 2)"
            ]
          },
          "metadata": {},
          "execution_count": 281
        }
      ]
    },
    {
      "cell_type": "code",
      "metadata": {
        "colab": {
          "base_uri": "https://localhost:8080/"
        },
        "id": "UIiPrL_aFlzx",
        "outputId": "fe481bcb-5311-4ea2-9822-85c3e160aa8a"
      },
      "source": [
        "np.ones((4,2,2))"
      ],
      "execution_count": 283,
      "outputs": [
        {
          "output_type": "execute_result",
          "data": {
            "text/plain": [
              "array([[[1., 1.],\n",
              "        [1., 1.]],\n",
              "\n",
              "       [[1., 1.],\n",
              "        [1., 1.]],\n",
              "\n",
              "       [[1., 1.],\n",
              "        [1., 1.]],\n",
              "\n",
              "       [[1., 1.],\n",
              "        [1., 1.]]])"
            ]
          },
          "metadata": {},
          "execution_count": 283
        }
      ]
    },
    {
      "cell_type": "code",
      "metadata": {
        "colab": {
          "base_uri": "https://localhost:8080/"
        },
        "id": "OrL54p6pFtxq",
        "outputId": "49ab0b8b-5fc5-4b34-bee7-914409fa6f41"
      },
      "source": [
        "np.zeros((4,2,2))"
      ],
      "execution_count": 284,
      "outputs": [
        {
          "output_type": "execute_result",
          "data": {
            "text/plain": [
              "array([[[0., 0.],\n",
              "        [0., 0.]],\n",
              "\n",
              "       [[0., 0.],\n",
              "        [0., 0.]],\n",
              "\n",
              "       [[0., 0.],\n",
              "        [0., 0.]],\n",
              "\n",
              "       [[0., 0.],\n",
              "        [0., 0.]]])"
            ]
          },
          "metadata": {},
          "execution_count": 284
        }
      ]
    },
    {
      "cell_type": "code",
      "metadata": {
        "colab": {
          "base_uri": "https://localhost:8080/"
        },
        "id": "8i8LiqBnFw_g",
        "outputId": "d810b3a0-7ee3-4c8e-8fc1-c298febe1cc6"
      },
      "source": [
        "np.random.random((4,2,2))"
      ],
      "execution_count": 285,
      "outputs": [
        {
          "output_type": "execute_result",
          "data": {
            "text/plain": [
              "array([[[0.46952171, 0.39461616],\n",
              "        [0.18337289, 0.75847024]],\n",
              "\n",
              "       [[0.08859317, 0.29712651],\n",
              "        [0.53182393, 0.72408685]],\n",
              "\n",
              "       [[0.34878767, 0.96320278],\n",
              "        [0.6435167 , 0.20637326]],\n",
              "\n",
              "       [[0.06940693, 0.56167702],\n",
              "        [0.38313529, 0.14068569]]])"
            ]
          },
          "metadata": {},
          "execution_count": 285
        }
      ]
    },
    {
      "cell_type": "markdown",
      "metadata": {
        "id": "U4YySwE6F13W"
      },
      "source": [
        "# **Flatten N-Dimensional Array**"
      ]
    },
    {
      "cell_type": "markdown",
      "metadata": {
        "id": "9mOTp2wRI3s5"
      },
      "source": [
        "Terdapat dua cara untuk meratakan array yaitu `.flatten()` dan `.ravel()` Perbedaan keduanya adalah pada `ravel()` setiap perubahan pada array baru akan mempengaruhi array induk juga."
      ]
    },
    {
      "cell_type": "code",
      "metadata": {
        "colab": {
          "base_uri": "https://localhost:8080/"
        },
        "id": "DivlzZYzIzpA",
        "outputId": "da9fb933-90ad-4641-b111-366458970587"
      },
      "source": [
        "arrflat = np.array([[1,2,3,4],[5,6,7,8],[9,10,11,12]])\n",
        "arrflat"
      ],
      "execution_count": 286,
      "outputs": [
        {
          "output_type": "execute_result",
          "data": {
            "text/plain": [
              "array([[ 1,  2,  3,  4],\n",
              "       [ 5,  6,  7,  8],\n",
              "       [ 9, 10, 11, 12]])"
            ]
          },
          "metadata": {},
          "execution_count": 286
        }
      ]
    },
    {
      "cell_type": "code",
      "metadata": {
        "colab": {
          "base_uri": "https://localhost:8080/"
        },
        "id": "ipcOzMy6JyNE",
        "outputId": "3f58d254-d291-4fcf-c107-db5ab1aa3b4c"
      },
      "source": [
        "arrflat.flatten()"
      ],
      "execution_count": 287,
      "outputs": [
        {
          "output_type": "execute_result",
          "data": {
            "text/plain": [
              "array([ 1,  2,  3,  4,  5,  6,  7,  8,  9, 10, 11, 12])"
            ]
          },
          "metadata": {},
          "execution_count": 287
        }
      ]
    }
  ]
}